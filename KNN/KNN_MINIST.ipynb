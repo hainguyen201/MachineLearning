{
 "cells": [
  {
   "cell_type": "code",
   "execution_count": 2,
   "metadata": {},
   "outputs": [],
   "source": [
    "import numpy as np\n",
    "from mnist import MNIST\n",
    "import matplotlib.pyplot as plt\n",
    "from sklearn import neighbors\n",
    "from sklearn.metrics import accuracy_score\n",
    "import time"
   ]
  },
  {
   "cell_type": "code",
   "execution_count": 6,
   "metadata": {},
   "outputs": [
    {
     "name": "stdout",
     "output_type": "stream",
     "text": [
      "96.91\n",
      "856.6745822429657\n"
     ]
    }
   ],
   "source": [
    "mndata=MNIST('../MNIST/')\n",
    "mndata.load_testing()\n",
    "mndata.load_training()\n",
    "X_test=mndata.test_images\n",
    "X_train=mndata.train_images\n",
    "y_test=np.asarray(mndata.test_labels)\n",
    "y_train=np.asarray(mndata.train_labels)\n",
    "start_time=time.time()\n",
    "clf=neighbors.KNeighborsClassifier(n_neighbors=1, p=2)\n",
    "clf.fit(X_train, y_train)\n",
    "y_pred=clf.predict(X_test)\n",
    "end_time=time.time()\n",
    "print(100*accuracy_score(y_test, y_pred))\n",
    "print(end_time-start_time)"
   ]
  },
  {
   "cell_type": "code",
   "execution_count": null,
   "metadata": {},
   "outputs": [],
   "source": []
  }
 ],
 "metadata": {
  "kernelspec": {
   "display_name": "Python 3",
   "language": "python",
   "name": "python3"
  },
  "language_info": {
   "codemirror_mode": {
    "name": "ipython",
    "version": 3
   },
   "file_extension": ".py",
   "mimetype": "text/x-python",
   "name": "python",
   "nbconvert_exporter": "python",
   "pygments_lexer": "ipython3",
   "version": "3.8.3"
  }
 },
 "nbformat": 4,
 "nbformat_minor": 2
}
