{
 "metadata": {
  "language_info": {
   "codemirror_mode": {
    "name": "ipython",
    "version": 3
   },
   "file_extension": ".py",
   "mimetype": "text/x-python",
   "name": "python",
   "nbconvert_exporter": "python",
   "pygments_lexer": "ipython3",
   "version": "3.8.3-final"
  },
  "orig_nbformat": 2,
  "kernelspec": {
   "name": "python3",
   "display_name": "Python 3"
  }
 },
 "nbformat": 4,
 "nbformat_minor": 2,
 "cells": [
  {
   "cell_type": "code",
   "execution_count": 97,
   "metadata": {},
   "outputs": [],
   "source": [
    "import numpy as np\n",
    "import matplotlib.pyplot as plt\n",
    "from sklearn import neighbors, datasets\n",
    "from sklearn.model_selection import train_test_split\n",
    "# đánh giá độ chính xác trong KNN\n",
    "from sklearn.metrics import accuracy_score"
   ]
  },
  {
   "cell_type": "code",
   "execution_count": 128,
   "metadata": {},
   "outputs": [
    {
     "output_type": "stream",
     "name": "stdout",
     "text": [
      "Number of classes: 3\nNumber of data point: 150\n"
     ]
    }
   ],
   "source": [
    "iris=datasets.load_iris()\n",
    "iris_X=iris.data\n",
    "iris_Y=iris.target\n",
    "# print(iris_X)\n",
    "# print(iris_Y)\n",
    "print('Number of classes: %d'%len(np.unique(iris_Y)))\n",
    "print('Number of data point: %d'%len(iris_Y))\n"
   ]
  },
  {
   "cell_type": "code",
   "execution_count": 148,
   "metadata": {},
   "outputs": [
    {
     "output_type": "stream",
     "name": "stdout",
     "text": [
      "[1 1 1 1 2 0 0 2 2 1 2 2 2 2 0 1 2 1 2 1]\n[1 1 1 2 2 0 0 2 2 1 2 2 2 2 0 1 2 1 2 1]\n94.0\n"
     ]
    }
   ],
   "source": [
    "X_train, X_test, y_train, y_test=train_test_split(iris_X, iris_Y, test_size=50)\n",
    "# cài đặt thông số K và p cho thuật toán\n",
    "clf=neighbors.KNeighborsClassifier(n_neighbors=10, p=2, weights='distance')## với K=1 và dùng chuẩn 2\n",
    "# đưa dữ liệu training vào \n",
    "clf.fit(X_train,y_train)\n",
    "y_pred=clf.predict(X_test)\n",
    "print(y_pred[20:40])\n",
    "print(y_test[20:40])\n",
    "print(100*accuracy_score(y_test, y_pred))"
   ]
  },
  {
   "cell_type": "code",
   "execution_count": null,
   "metadata": {},
   "outputs": [],
   "source": []
  }
 ]
}