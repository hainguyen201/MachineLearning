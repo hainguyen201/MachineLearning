{
 "cells": [
  {
   "cell_type": "code",
   "execution_count": 2,
   "metadata": {},
   "outputs": [
    {
     "name": "stdout",
     "output_type": "stream",
     "text": [
      "2018-12-11\n"
     ]
    }
   ],
   "source": [
    "import datetime as DT\n",
    "today = DT.date.today()\n",
    "numdayago = today - DT.timedelta(days=700)\n",
    "print(numdayago)"
   ]
  },
  {
   "cell_type": "code",
   "execution_count": 2,
   "metadata": {},
   "outputs": [
    {
     "name": "stdout",
     "output_type": "stream",
     "text": [
      "[[3.5 1. ]\n",
      " [2.  3. ]\n",
      " [0.  1. ]]\n"
     ]
    },
    {
     "data": {
      "image/png": "[encoded data removed]",
      "text/plain": [
       "<Figure size 432x288 with 1 Axes>"
      ]
     },
     "metadata": {
      "needs_background": "light"
     },
     "output_type": "display_data"
    },
    {
     "name": "stdout",
     "output_type": "stream",
     "text": [
      "[2 1 0 0]\n",
      "[0. 1.]\n",
      "[1 2]\n"
     ]
    }
   ],
   "source": [
    "import numpy as np\n",
    "from sklearn.cluster import KMeans\n",
    "import  matplotlib.pyplot as plt\n",
    "X=np.array([[0,1], [2,3], [3,1], [4,1]])\n",
    "kmeans=KMeans(n_clusters=3).fit(X)\n",
    "label=kmeans.predict(X)\n",
    "print(kmeans.cluster_centers_[:])\n",
    "plt.plot(X[:,0], X[:, 1], 'ro')\n",
    "plt.plot(kmeans.cluster_centers_[:][0], kmeans.cluster_centers_[:][1], \"b^\")\n",
    "plt.show()\n",
    "print(label)\n",
    "print(np.linspace(0,1,2))\n",
    "w=np.array([1,2])\n",
    "ww=w\n",
    "print(ww)"
   ]
  },
  {
   "cell_type": "code",
   "execution_count": null,
   "metadata": {},
   "outputs": [],
   "source": []
  }
 ],
 "metadata": {
  "kernelspec": {
   "display_name": "Python 3",
   "language": "python",
   "name": "python3"
  },
  "language_info": {
   "codemirror_mode": {
    "name": "ipython",
    "version": 3
   },
   "file_extension": ".py",
   "mimetype": "text/x-python",
   "name": "python",
   "nbconvert_exporter": "python",
   "pygments_lexer": "ipython3",
   "version": "3.8.3"
  }
 },
 "nbformat": 4,
 "nbformat_minor": 2
}
