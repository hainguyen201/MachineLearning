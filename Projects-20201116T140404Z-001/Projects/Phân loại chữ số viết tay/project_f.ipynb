{
  "nbformat": 4,
  "nbformat_minor": 0,
  "metadata": {
    "colab": {
      "name": "project.f",
      "provenance": [],
      "collapsed_sections": []
    },
    "kernelspec": {
      "name": "python3",
      "display_name": "Python 3"
    }
  },
  "cells": [
    {
      "cell_type": "code",
      "metadata": {
        "id": "-mwAQ5V90lJv"
      },
      "source": [
        "import pandas as pd\n",
        "import numpy as np\n",
        "from matplotlib import pyplot as plt\n",
        "from pandas import read_csv\n",
        "from pandas import set_option\n",
        "from sklearn.preprocessing import StandardScaler\n",
        "from sklearn.model_selection import train_test_split\n",
        "from sklearn.model_selection import KFold\n",
        "from sklearn.model_selection import cross_val_score\n",
        "from sklearn.model_selection import GridSearchCV\n",
        "from sklearn.metrics import classification_report\n",
        "from sklearn.metrics import confusion_matrix\n",
        "from sklearn.metrics import accuracy_score\n",
        "from sklearn.pipeline import Pipeline\n",
        "from sklearn.linear_model import LogisticRegression\n",
        "from sklearn.tree import DecisionTreeClassifier\n",
        "from sklearn.neighbors import KNeighborsClassifier\n",
        "from sklearn.discriminant_analysis import LinearDiscriminantAnalysis\n",
        "from sklearn.naive_bayes import GaussianNB\n",
        "from sklearn.svm import SVC\n",
        "from sklearn.ensemble import AdaBoostClassifier\n",
        "from sklearn.ensemble import GradientBoostingClassifier\n",
        "from sklearn.ensemble import RandomForestClassifier\n",
        "from sklearn.ensemble import ExtraTreesClassifier\n",
        "from sklearn.datasets import load_digits\n",
        "import seaborn as sns\n",
        "from sklearn import datasets, svm, metrics"
      ],
      "execution_count": null,
      "outputs": []
    },
    {
      "cell_type": "code",
      "metadata": {
        "id": "gSEj8Kb51Li7",
        "outputId": "526413c1-e226-4f4c-f85f-f58dbf2416b7",
        "colab": {
          "base_uri": "https://localhost:8080/"
        }
      },
      "source": [
        "data = load_digits()\n",
        "print(data.data.shape)"
      ],
      "execution_count": null,
      "outputs": [
        {
          "output_type": "stream",
          "text": [
            "(1797, 64)\n"
          ],
          "name": "stdout"
        }
      ]
    },
    {
      "cell_type": "code",
      "metadata": {
        "id": "KM67pgJJ1Xah",
        "outputId": "1fc7b5a5-d2e9-40aa-c060-db15df77ac80",
        "colab": {
          "base_uri": "https://localhost:8080/"
        }
      },
      "source": [
        "print(type(data))\n",
        "data"
      ],
      "execution_count": null,
      "outputs": [
        {
          "output_type": "stream",
          "text": [
            "<class 'sklearn.utils.Bunch'>\n"
          ],
          "name": "stdout"
        },
        {
          "output_type": "execute_result",
          "data": {
            "text/plain": [
              "{'DESCR': \".. _digits_dataset:\\n\\nOptical recognition of handwritten digits dataset\\n--------------------------------------------------\\n\\n**Data Set Characteristics:**\\n\\n    :Number of Instances: 5620\\n    :Number of Attributes: 64\\n    :Attribute Information: 8x8 image of integer pixels in the range 0..16.\\n    :Missing Attribute Values: None\\n    :Creator: E. Alpaydin (alpaydin '@' boun.edu.tr)\\n    :Date: July; 1998\\n\\nThis is a copy of the test set of the UCI ML hand-written digits datasets\\nhttps://archive.ics.uci.edu/ml/datasets/Optical+Recognition+of+Handwritten+Digits\\n\\nThe data set contains images of hand-written digits: 10 classes where\\neach class refers to a digit.\\n\\nPreprocessing programs made available by NIST were used to extract\\nnormalized bitmaps of handwritten digits from a preprinted form. From a\\ntotal of 43 people, 30 contributed to the training set and different 13\\nto the test set. 32x32 bitmaps are divided into nonoverlapping blocks of\\n4x4 and the number of on pixels are counted in each block. This generates\\nan input matrix of 8x8 where each element is an integer in the range\\n0..16. This reduces dimensionality and gives invariance to small\\ndistortions.\\n\\nFor info on NIST preprocessing routines, see M. D. Garris, J. L. Blue, G.\\nT. Candela, D. L. Dimmick, J. Geist, P. J. Grother, S. A. Janet, and C.\\nL. Wilson, NIST Form-Based Handprint Recognition System, NISTIR 5469,\\n1994.\\n\\n.. topic:: References\\n\\n  - C. Kaynak (1995) Methods of Combining Multiple Classifiers and Their\\n    Applications to Handwritten Digit Recognition, MSc Thesis, Institute of\\n    Graduate Studies in Science and Engineering, Bogazici University.\\n  - E. Alpaydin, C. Kaynak (1998) Cascading Classifiers, Kybernetika.\\n  - Ken Tang and Ponnuthurai N. Suganthan and Xi Yao and A. Kai Qin.\\n    Linear dimensionalityreduction using relevance weighted LDA. School of\\n    Electrical and Electronic Engineering Nanyang Technological University.\\n    2005.\\n  - Claudio Gentile. A New Approximate Maximal Margin Classification\\n    Algorithm. NIPS. 2000.\",\n",
              " 'data': array([[ 0.,  0.,  5., ...,  0.,  0.,  0.],\n",
              "        [ 0.,  0.,  0., ..., 10.,  0.,  0.],\n",
              "        [ 0.,  0.,  0., ..., 16.,  9.,  0.],\n",
              "        ...,\n",
              "        [ 0.,  0.,  1., ...,  6.,  0.,  0.],\n",
              "        [ 0.,  0.,  2., ..., 12.,  0.,  0.],\n",
              "        [ 0.,  0., 10., ..., 12.,  1.,  0.]]),\n",
              " 'images': array([[[ 0.,  0.,  5., ...,  1.,  0.,  0.],\n",
              "         [ 0.,  0., 13., ..., 15.,  5.,  0.],\n",
              "         [ 0.,  3., 15., ..., 11.,  8.,  0.],\n",
              "         ...,\n",
              "         [ 0.,  4., 11., ..., 12.,  7.,  0.],\n",
              "         [ 0.,  2., 14., ..., 12.,  0.,  0.],\n",
              "         [ 0.,  0.,  6., ...,  0.,  0.,  0.]],\n",
              " \n",
              "        [[ 0.,  0.,  0., ...,  5.,  0.,  0.],\n",
              "         [ 0.,  0.,  0., ...,  9.,  0.,  0.],\n",
              "         [ 0.,  0.,  3., ...,  6.,  0.,  0.],\n",
              "         ...,\n",
              "         [ 0.,  0.,  1., ...,  6.,  0.,  0.],\n",
              "         [ 0.,  0.,  1., ...,  6.,  0.,  0.],\n",
              "         [ 0.,  0.,  0., ..., 10.,  0.,  0.]],\n",
              " \n",
              "        [[ 0.,  0.,  0., ..., 12.,  0.,  0.],\n",
              "         [ 0.,  0.,  3., ..., 14.,  0.,  0.],\n",
              "         [ 0.,  0.,  8., ..., 16.,  0.,  0.],\n",
              "         ...,\n",
              "         [ 0.,  9., 16., ...,  0.,  0.,  0.],\n",
              "         [ 0.,  3., 13., ..., 11.,  5.,  0.],\n",
              "         [ 0.,  0.,  0., ..., 16.,  9.,  0.]],\n",
              " \n",
              "        ...,\n",
              " \n",
              "        [[ 0.,  0.,  1., ...,  1.,  0.,  0.],\n",
              "         [ 0.,  0., 13., ...,  2.,  1.,  0.],\n",
              "         [ 0.,  0., 16., ..., 16.,  5.,  0.],\n",
              "         ...,\n",
              "         [ 0.,  0., 16., ..., 15.,  0.,  0.],\n",
              "         [ 0.,  0., 15., ..., 16.,  0.,  0.],\n",
              "         [ 0.,  0.,  2., ...,  6.,  0.,  0.]],\n",
              " \n",
              "        [[ 0.,  0.,  2., ...,  0.,  0.,  0.],\n",
              "         [ 0.,  0., 14., ..., 15.,  1.,  0.],\n",
              "         [ 0.,  4., 16., ..., 16.,  7.,  0.],\n",
              "         ...,\n",
              "         [ 0.,  0.,  0., ..., 16.,  2.,  0.],\n",
              "         [ 0.,  0.,  4., ..., 16.,  2.,  0.],\n",
              "         [ 0.,  0.,  5., ..., 12.,  0.,  0.]],\n",
              " \n",
              "        [[ 0.,  0., 10., ...,  1.,  0.,  0.],\n",
              "         [ 0.,  2., 16., ...,  1.,  0.,  0.],\n",
              "         [ 0.,  0., 15., ..., 15.,  0.,  0.],\n",
              "         ...,\n",
              "         [ 0.,  4., 16., ..., 16.,  6.,  0.],\n",
              "         [ 0.,  8., 16., ..., 16.,  8.,  0.],\n",
              "         [ 0.,  1.,  8., ..., 12.,  1.,  0.]]]),\n",
              " 'target': array([0, 1, 2, ..., 8, 9, 8]),\n",
              " 'target_names': array([0, 1, 2, 3, 4, 5, 6, 7, 8, 9])}"
            ]
          },
          "metadata": {
            "tags": []
          },
          "execution_count": 13
        }
      ]
    },
    {
      "cell_type": "code",
      "metadata": {
        "id": "x6kmvtRQ1q_p"
      },
      "source": [
        "X = data['data']\n",
        "y = data['target'] "
      ],
      "execution_count": null,
      "outputs": []
    },
    {
      "cell_type": "code",
      "metadata": {
        "id": "uIW3IyhY3DZt",
        "outputId": "38422fe3-9742-4111-d8dc-3367c5788abe",
        "colab": {
          "base_uri": "https://localhost:8080/"
        }
      },
      "source": [
        "print(X.shape, y.shape)\n",
        "print(data.target_names)\n",
        "print(data.target)"
      ],
      "execution_count": null,
      "outputs": [
        {
          "output_type": "stream",
          "text": [
            "(1797, 64) (1797,)\n",
            "[0 1 2 3 4 5 6 7 8 9]\n",
            "[0 1 2 ... 8 9 8]\n"
          ],
          "name": "stdout"
        }
      ]
    },
    {
      "cell_type": "code",
      "metadata": {
        "id": "y7f5kQQd3M-A",
        "outputId": "cd270250-ff5f-4815-c60e-1da28a08aff8",
        "colab": {
          "base_uri": "https://localhost:8080/"
        }
      },
      "source": [
        "X[0], y[0]\n"
      ],
      "execution_count": null,
      "outputs": [
        {
          "output_type": "execute_result",
          "data": {
            "text/plain": [
              "(array([ 0.,  0.,  5., 13.,  9.,  1.,  0.,  0.,  0.,  0., 13., 15., 10.,\n",
              "        15.,  5.,  0.,  0.,  3., 15.,  2.,  0., 11.,  8.,  0.,  0.,  4.,\n",
              "        12.,  0.,  0.,  8.,  8.,  0.,  0.,  5.,  8.,  0.,  0.,  9.,  8.,\n",
              "         0.,  0.,  4., 11.,  0.,  1., 12.,  7.,  0.,  0.,  2., 14.,  5.,\n",
              "        10., 12.,  0.,  0.,  0.,  0.,  6., 13., 10.,  0.,  0.,  0.]), 0)"
            ]
          },
          "metadata": {
            "tags": []
          },
          "execution_count": 16
        }
      ]
    },
    {
      "cell_type": "code",
      "metadata": {
        "id": "TGBNqXFt3Qv5",
        "outputId": "6776475c-79c7-4638-d864-cae277642b16",
        "colab": {
          "base_uri": "https://localhost:8080/"
        }
      },
      "source": [
        "type(X)"
      ],
      "execution_count": null,
      "outputs": [
        {
          "output_type": "execute_result",
          "data": {
            "text/plain": [
              "numpy.ndarray"
            ]
          },
          "metadata": {
            "tags": []
          },
          "execution_count": 17
        }
      ]
    },
    {
      "cell_type": "code",
      "metadata": {
        "id": "20asDqI_fy1T",
        "outputId": "2112b5cc-2029-4a7c-af83-01ad7336a85a",
        "colab": {
          "base_uri": "https://localhost:8080/",
          "height": 1000
        }
      },
      "source": [
        " \n",
        "for i in range (0,10):\n",
        "  plt.gray() \n",
        "  plt.matshow(data.images[i]) \n",
        "  plt.show() "
      ],
      "execution_count": null,
      "outputs": [
        {
          "output_type": "display_data",
          "data": {
            "text/plain": [
              "<Figure size 432x288 with 0 Axes>"
            ]
          },
          "metadata": {
            "tags": []
          }
        },
        {
          "output_type": "display_data",
          "data": {
            "image/png": "[encoded data removed]",
            "text/plain": [
              "<Figure size 288x288 with 1 Axes>"
            ]
          },
          "metadata": {
            "tags": [],
            "needs_background": "light"
          }
        },
        {
          "output_type": "display_data",
          "data": {
            "text/plain": [
              "<Figure size 432x288 with 0 Axes>"
            ]
          },
          "metadata": {
            "tags": []
          }
        },
        {
          "output_type": "display_data",
          "data": {
            "image/png": "[encoded data removed]",
            "text/plain": [
              "<Figure size 288x288 with 1 Axes>"
            ]
          },
          "metadata": {
            "tags": [],
            "needs_background": "light"
          }
        },
        {
          "output_type": "display_data",
          "data": {
            "text/plain": [
              "<Figure size 432x288 with 0 Axes>"
            ]
          },
          "metadata": {
            "tags": []
          }
        },
        {
          "output_type": "display_data",
          "data": {
            "image/png": "[encoded data removed]",
            "text/plain": [
              "<Figure size 288x288 with 1 Axes>"
            ]
          },
          "metadata": {
            "tags": [],
            "needs_background": "light"
          }
        },
        {
          "output_type": "display_data",
          "data": {
            "text/plain": [
              "<Figure size 432x288 with 0 Axes>"
            ]
          },
          "metadata": {
            "tags": []
          }
        },
        {
          "output_type": "display_data",
          "data": {
            "image/png": "[encoded data removed]",
            "text/plain": [
              "<Figure size 288x288 with 1 Axes>"
            ]
          },
          "metadata": {
            "tags": [],
            "needs_background": "light"
          }
        },
        {
          "output_type": "display_data",
          "data": {
            "text/plain": [
              "<Figure size 432x288 with 0 Axes>"
            ]
          },
          "metadata": {
            "tags": []
          }
        },
        {
          "output_type": "display_data",
          "data": {
            "image/png": "[encoded data removed]",
            "text/plain": [
              "<Figure size 288x288 with 1 Axes>"
            ]
          },
          "metadata": {
            "tags": [],
            "needs_background": "light"
          }
        },
        {
          "output_type": "display_data",
          "data": {
            "text/plain": [
              "<Figure size 432x288 with 0 Axes>"
            ]
          },
          "metadata": {
            "tags": []
          }
        },
        {
          "output_type": "display_data",
          "data": {
            "image/png": "[encoded data removed]",
            "text/plain": [
              "<Figure size 288x288 with 1 Axes>"
            ]
          },
          "metadata": {
            "tags": [],
            "needs_background": "light"
          }
        },
        {
          "output_type": "display_data",
          "data": {
            "text/plain": [
              "<Figure size 432x288 with 0 Axes>"
            ]
          },
          "metadata": {
            "tags": []
          }
        },
        {
          "output_type": "display_data",
          "data": {
            "image/png": "[encoded data removed]",
            "text/plain": [
              "<Figure size 288x288 with 1 Axes>"
            ]
          },
          "metadata": {
            "tags": [],
            "needs_background": "light"
          }
        },
        {
          "output_type": "display_data",
          "data": {
            "text/plain": [
              "<Figure size 432x288 with 0 Axes>"
            ]
          },
          "metadata": {
            "tags": []
          }
        },
        {
          "output_type": "display_data",
          "data": {
            "image/png": "[encoded data removed]",
            "text/plain": [
              "<Figure size 288x288 with 1 Axes>"
            ]
          },
          "metadata": {
            "tags": [],
            "needs_background": "light"
          }
        },
        {
          "output_type": "display_data",
          "data": {
            "text/plain": [
              "<Figure size 432x288 with 0 Axes>"
            ]
          },
          "metadata": {
            "tags": []
          }
        },
        {
          "output_type": "display_data",
          "data": {
            "image/png": "[encoded data removed]",
            "text/plain": [
              "<Figure size 288x288 with 1 Axes>"
            ]
          },
          "metadata": {
            "tags": [],
            "needs_background": "light"
          }
        },
        {
          "output_type": "display_data",
          "data": {
            "text/plain": [
              "<Figure size 432x288 with 0 Axes>"
            ]
          },
          "metadata": {
            "tags": []
          }
        },
        {
          "output_type": "display_data",
          "data": {
            "image/png": "[encoded data removed]",
            "text/plain": [
              "<Figure size 288x288 with 1 Axes>"
            ]
          },
          "metadata": {
            "tags": [],
            "needs_background": "light"
          }
        }
      ]
    },
    {
      "cell_type": "code",
      "metadata": {
        "id": "MtbBfxH-4_iA"
      },
      "source": [
        "test_size = 0.20\n",
        "seed = 7\n",
        "X_train, X_test, y_train, y_test = train_test_split(X, y, test_size=test_size, random_state=seed)"
      ],
      "execution_count": null,
      "outputs": []
    },
    {
      "cell_type": "code",
      "metadata": {
        "id": "hziZhD8D5HL5"
      },
      "source": [
        "#Tùy chỉnh và đánh giá\n",
        "num_folds = 10\n",
        "scoring = 'accuracy'"
      ],
      "execution_count": null,
      "outputs": []
    },
    {
      "cell_type": "code",
      "metadata": {
        "id": "jyrvCGZX5M4A"
      },
      "source": [
        "models = []\n",
        "models.append(('LR', LogisticRegression()))\n",
        "models.append(('LDA', LinearDiscriminantAnalysis()))\n",
        "models.append(('KNN', KNeighborsClassifier()))\n",
        "models.append(('CART', DecisionTreeClassifier()))\n",
        "models.append(('NB', GaussianNB()))\n",
        "models.append(('SVM', SVC()))"
      ],
      "execution_count": null,
      "outputs": []
    },
    {
      "cell_type": "code",
      "metadata": {
        "id": "aQyXrpNt5RxX",
        "outputId": "f1ddc0f7-4ead-4b09-a0b5-17982376a969",
        "colab": {
          "base_uri": "https://localhost:8080/"
        }
      },
      "source": [
        "results = []\n",
        "names = []\n",
        "for name, model in models:\n",
        "  kfold = KFold(n_splits=num_folds, random_state=seed)\n",
        "  cv_results = cross_val_score(model, X_train, y_train, cv=kfold, scoring=scoring)\n",
        "  results.append(cv_results)\n",
        "  names.append(name)\n",
        "  msg = \"%s: %f (%f)\" % (name, cv_results.mean(), cv_results.std())\n",
        "  print(msg)"
      ],
      "execution_count": null,
      "outputs": [
        {
          "output_type": "stream",
          "text": [
            "/usr/local/lib/python3.6/dist-packages/sklearn/model_selection/_split.py:296: FutureWarning: Setting a random_state has no effect since shuffle is False. This will raise an error in 0.24. You should leave random_state to its default (None), or set shuffle=True.\n",
            "  FutureWarning\n",
            "/usr/local/lib/python3.6/dist-packages/sklearn/linear_model/_logistic.py:940: ConvergenceWarning: lbfgs failed to converge (status=1):\n",
            "STOP: TOTAL NO. of ITERATIONS REACHED LIMIT.\n",
            "\n",
            "Increase the number of iterations (max_iter) or scale the data as shown in:\n",
            "    https://scikit-learn.org/stable/modules/preprocessing.html\n",
            "Please also refer to the documentation for alternative solver options:\n",
            "    https://scikit-learn.org/stable/modules/linear_model.html#logistic-regression\n",
            "  extra_warning_msg=_LOGISTIC_SOLVER_CONVERGENCE_MSG)\n",
            "/usr/local/lib/python3.6/dist-packages/sklearn/linear_model/_logistic.py:940: ConvergenceWarning: lbfgs failed to converge (status=1):\n",
            "STOP: TOTAL NO. of ITERATIONS REACHED LIMIT.\n",
            "\n",
            "Increase the number of iterations (max_iter) or scale the data as shown in:\n",
            "    https://scikit-learn.org/stable/modules/preprocessing.html\n",
            "Please also refer to the documentation for alternative solver options:\n",
            "    https://scikit-learn.org/stable/modules/linear_model.html#logistic-regression\n",
            "  extra_warning_msg=_LOGISTIC_SOLVER_CONVERGENCE_MSG)\n",
            "/usr/local/lib/python3.6/dist-packages/sklearn/linear_model/_logistic.py:940: ConvergenceWarning: lbfgs failed to converge (status=1):\n",
            "STOP: TOTAL NO. of ITERATIONS REACHED LIMIT.\n",
            "\n",
            "Increase the number of iterations (max_iter) or scale the data as shown in:\n",
            "    https://scikit-learn.org/stable/modules/preprocessing.html\n",
            "Please also refer to the documentation for alternative solver options:\n",
            "    https://scikit-learn.org/stable/modules/linear_model.html#logistic-regression\n",
            "  extra_warning_msg=_LOGISTIC_SOLVER_CONVERGENCE_MSG)\n",
            "/usr/local/lib/python3.6/dist-packages/sklearn/linear_model/_logistic.py:940: ConvergenceWarning: lbfgs failed to converge (status=1):\n",
            "STOP: TOTAL NO. of ITERATIONS REACHED LIMIT.\n",
            "\n",
            "Increase the number of iterations (max_iter) or scale the data as shown in:\n",
            "    https://scikit-learn.org/stable/modules/preprocessing.html\n",
            "Please also refer to the documentation for alternative solver options:\n",
            "    https://scikit-learn.org/stable/modules/linear_model.html#logistic-regression\n",
            "  extra_warning_msg=_LOGISTIC_SOLVER_CONVERGENCE_MSG)\n",
            "/usr/local/lib/python3.6/dist-packages/sklearn/linear_model/_logistic.py:940: ConvergenceWarning: lbfgs failed to converge (status=1):\n",
            "STOP: TOTAL NO. of ITERATIONS REACHED LIMIT.\n",
            "\n",
            "Increase the number of iterations (max_iter) or scale the data as shown in:\n",
            "    https://scikit-learn.org/stable/modules/preprocessing.html\n",
            "Please also refer to the documentation for alternative solver options:\n",
            "    https://scikit-learn.org/stable/modules/linear_model.html#logistic-regression\n",
            "  extra_warning_msg=_LOGISTIC_SOLVER_CONVERGENCE_MSG)\n",
            "/usr/local/lib/python3.6/dist-packages/sklearn/linear_model/_logistic.py:940: ConvergenceWarning: lbfgs failed to converge (status=1):\n",
            "STOP: TOTAL NO. of ITERATIONS REACHED LIMIT.\n",
            "\n",
            "Increase the number of iterations (max_iter) or scale the data as shown in:\n",
            "    https://scikit-learn.org/stable/modules/preprocessing.html\n",
            "Please also refer to the documentation for alternative solver options:\n",
            "    https://scikit-learn.org/stable/modules/linear_model.html#logistic-regression\n",
            "  extra_warning_msg=_LOGISTIC_SOLVER_CONVERGENCE_MSG)\n",
            "/usr/local/lib/python3.6/dist-packages/sklearn/linear_model/_logistic.py:940: ConvergenceWarning: lbfgs failed to converge (status=1):\n",
            "STOP: TOTAL NO. of ITERATIONS REACHED LIMIT.\n",
            "\n",
            "Increase the number of iterations (max_iter) or scale the data as shown in:\n",
            "    https://scikit-learn.org/stable/modules/preprocessing.html\n",
            "Please also refer to the documentation for alternative solver options:\n",
            "    https://scikit-learn.org/stable/modules/linear_model.html#logistic-regression\n",
            "  extra_warning_msg=_LOGISTIC_SOLVER_CONVERGENCE_MSG)\n",
            "/usr/local/lib/python3.6/dist-packages/sklearn/linear_model/_logistic.py:940: ConvergenceWarning: lbfgs failed to converge (status=1):\n",
            "STOP: TOTAL NO. of ITERATIONS REACHED LIMIT.\n",
            "\n",
            "Increase the number of iterations (max_iter) or scale the data as shown in:\n",
            "    https://scikit-learn.org/stable/modules/preprocessing.html\n",
            "Please also refer to the documentation for alternative solver options:\n",
            "    https://scikit-learn.org/stable/modules/linear_model.html#logistic-regression\n",
            "  extra_warning_msg=_LOGISTIC_SOLVER_CONVERGENCE_MSG)\n",
            "/usr/local/lib/python3.6/dist-packages/sklearn/linear_model/_logistic.py:940: ConvergenceWarning: lbfgs failed to converge (status=1):\n",
            "STOP: TOTAL NO. of ITERATIONS REACHED LIMIT.\n",
            "\n",
            "Increase the number of iterations (max_iter) or scale the data as shown in:\n",
            "    https://scikit-learn.org/stable/modules/preprocessing.html\n",
            "Please also refer to the documentation for alternative solver options:\n",
            "    https://scikit-learn.org/stable/modules/linear_model.html#logistic-regression\n",
            "  extra_warning_msg=_LOGISTIC_SOLVER_CONVERGENCE_MSG)\n",
            "/usr/local/lib/python3.6/dist-packages/sklearn/linear_model/_logistic.py:940: ConvergenceWarning: lbfgs failed to converge (status=1):\n",
            "STOP: TOTAL NO. of ITERATIONS REACHED LIMIT.\n",
            "\n",
            "Increase the number of iterations (max_iter) or scale the data as shown in:\n",
            "    https://scikit-learn.org/stable/modules/preprocessing.html\n",
            "Please also refer to the documentation for alternative solver options:\n",
            "    https://scikit-learn.org/stable/modules/linear_model.html#logistic-regression\n",
            "  extra_warning_msg=_LOGISTIC_SOLVER_CONVERGENCE_MSG)\n",
            "/usr/local/lib/python3.6/dist-packages/sklearn/model_selection/_split.py:296: FutureWarning: Setting a random_state has no effect since shuffle is False. This will raise an error in 0.24. You should leave random_state to its default (None), or set shuffle=True.\n",
            "  FutureWarning\n"
          ],
          "name": "stderr"
        },
        {
          "output_type": "stream",
          "text": [
            "LR: 0.966599 (0.015503)\n",
            "LDA: 0.953365 (0.020722)\n"
          ],
          "name": "stdout"
        },
        {
          "output_type": "stream",
          "text": [
            "/usr/local/lib/python3.6/dist-packages/sklearn/model_selection/_split.py:296: FutureWarning: Setting a random_state has no effect since shuffle is False. This will raise an error in 0.24. You should leave random_state to its default (None), or set shuffle=True.\n",
            "  FutureWarning\n"
          ],
          "name": "stderr"
        },
        {
          "output_type": "stream",
          "text": [
            "KNN: 0.984688 (0.009226)\n",
            "CART: 0.862155 (0.037935)\n"
          ],
          "name": "stdout"
        },
        {
          "output_type": "stream",
          "text": [
            "/usr/local/lib/python3.6/dist-packages/sklearn/model_selection/_split.py:296: FutureWarning: Setting a random_state has no effect since shuffle is False. This will raise an error in 0.24. You should leave random_state to its default (None), or set shuffle=True.\n",
            "  FutureWarning\n",
            "/usr/local/lib/python3.6/dist-packages/sklearn/model_selection/_split.py:296: FutureWarning: Setting a random_state has no effect since shuffle is False. This will raise an error in 0.24. You should leave random_state to its default (None), or set shuffle=True.\n",
            "  FutureWarning\n"
          ],
          "name": "stderr"
        },
        {
          "output_type": "stream",
          "text": [
            "NB: 0.830167 (0.041167)\n"
          ],
          "name": "stdout"
        },
        {
          "output_type": "stream",
          "text": [
            "/usr/local/lib/python3.6/dist-packages/sklearn/model_selection/_split.py:296: FutureWarning: Setting a random_state has no effect since shuffle is False. This will raise an error in 0.24. You should leave random_state to its default (None), or set shuffle=True.\n",
            "  FutureWarning\n"
          ],
          "name": "stderr"
        },
        {
          "output_type": "stream",
          "text": [
            "SVM: 0.986772 (0.005790)\n"
          ],
          "name": "stdout"
        }
      ]
    },
    {
      "cell_type": "code",
      "metadata": {
        "id": "2lLwnsAJ5dHb",
        "outputId": "16de0095-0c7c-41a6-ddf5-1953a5fa015a",
        "colab": {
          "base_uri": "https://localhost:8080/",
          "height": 663
        }
      },
      "source": [
        "fig = plt.figure(figsize=(10, 10))\n",
        "fig.suptitle('Algorithm Comparison')\n",
        "ax = fig.add_subplot(111)\n",
        "plt.boxplot(results)\n",
        "ax.set_xticklabels(names)\n",
        "plt.show()"
      ],
      "execution_count": null,
      "outputs": [
        {
          "output_type": "display_data",
          "data": {
            "image/png": "[encoded data removed]",
            "text/plain": [
              "<Figure size 720x720 with 1 Axes>"
            ]
          },
          "metadata": {
            "tags": [],
            "needs_background": "light"
          }
        }
      ]
    },
    {
      "cell_type": "code",
      "metadata": {
        "id": "MaoPyAea5nzJ",
        "outputId": "87a76b89-053e-4cd8-ca53-169e5599d3c0",
        "colab": {
          "base_uri": "https://localhost:8080/"
        }
      },
      "source": [
        "pipelines = []\n",
        "pipelines.append(('ScaledLR', Pipeline([('Scaler', StandardScaler()),('LR',LogisticRegression())])))\n",
        "pipelines.append(('ScaledLDA', Pipeline([('Scaler', StandardScaler()),('LDA', LinearDiscriminantAnalysis())])))\n",
        "pipelines.append(('ScaledKNN', Pipeline([('Scaler', StandardScaler()),('KNN', KNeighborsClassifier())])))\n",
        "pipelines.append(('ScaledCART', Pipeline([('Scaler', StandardScaler()),('CART',DecisionTreeClassifier())])))\n",
        "pipelines.append(('ScaledNB', Pipeline([('Scaler', StandardScaler()),('NB', GaussianNB())])))\n",
        "pipelines.append(('ScaledSVM', Pipeline([('Scaler', StandardScaler()),('SVM', SVC())])))\n",
        "results = []\n",
        "names = []\n",
        "for name, model in pipelines:\n",
        "  kfold = KFold(n_splits=num_folds, random_state=seed)\n",
        "  cv_results = cross_val_score(model, X_train, y_train, cv=kfold, scoring=scoring)\n",
        "  results.append(cv_results)\n",
        "  names.append(name)\n",
        "  msg = \"%s: %f (%f)\" % (name, cv_results.mean(), cv_results.std())\n",
        "  print(msg)"
      ],
      "execution_count": null,
      "outputs": [
        {
          "output_type": "stream",
          "text": [
            "/usr/local/lib/python3.6/dist-packages/sklearn/model_selection/_split.py:296: FutureWarning: Setting a random_state has no effect since shuffle is False. This will raise an error in 0.24. You should leave random_state to its default (None), or set shuffle=True.\n",
            "  FutureWarning\n"
          ],
          "name": "stderr"
        },
        {
          "output_type": "stream",
          "text": [
            "ScaledLR: 0.965890 (0.016035)\n"
          ],
          "name": "stdout"
        },
        {
          "output_type": "stream",
          "text": [
            "/usr/local/lib/python3.6/dist-packages/sklearn/model_selection/_split.py:296: FutureWarning: Setting a random_state has no effect since shuffle is False. This will raise an error in 0.24. You should leave random_state to its default (None), or set shuffle=True.\n",
            "  FutureWarning\n"
          ],
          "name": "stderr"
        },
        {
          "output_type": "stream",
          "text": [
            "ScaledLDA: 0.953365 (0.020722)\n"
          ],
          "name": "stdout"
        },
        {
          "output_type": "stream",
          "text": [
            "/usr/local/lib/python3.6/dist-packages/sklearn/model_selection/_split.py:296: FutureWarning: Setting a random_state has no effect since shuffle is False. This will raise an error in 0.24. You should leave random_state to its default (None), or set shuffle=True.\n",
            "  FutureWarning\n"
          ],
          "name": "stderr"
        },
        {
          "output_type": "stream",
          "text": [
            "ScaledKNN: 0.972858 (0.009559)\n"
          ],
          "name": "stdout"
        },
        {
          "output_type": "stream",
          "text": [
            "/usr/local/lib/python3.6/dist-packages/sklearn/model_selection/_split.py:296: FutureWarning: Setting a random_state has no effect since shuffle is False. This will raise an error in 0.24. You should leave random_state to its default (None), or set shuffle=True.\n",
            "  FutureWarning\n"
          ],
          "name": "stderr"
        },
        {
          "output_type": "stream",
          "text": [
            "ScaledCART: 0.861461 (0.034291)\n",
            "ScaledNB: 0.768910 (0.040099)\n"
          ],
          "name": "stdout"
        },
        {
          "output_type": "stream",
          "text": [
            "/usr/local/lib/python3.6/dist-packages/sklearn/model_selection/_split.py:296: FutureWarning: Setting a random_state has no effect since shuffle is False. This will raise an error in 0.24. You should leave random_state to its default (None), or set shuffle=True.\n",
            "  FutureWarning\n",
            "/usr/local/lib/python3.6/dist-packages/sklearn/model_selection/_split.py:296: FutureWarning: Setting a random_state has no effect since shuffle is False. This will raise an error in 0.24. You should leave random_state to its default (None), or set shuffle=True.\n",
            "  FutureWarning\n"
          ],
          "name": "stderr"
        },
        {
          "output_type": "stream",
          "text": [
            "ScaledSVM: 0.979808 (0.011429)\n"
          ],
          "name": "stdout"
        }
      ]
    },
    {
      "cell_type": "code",
      "metadata": {
        "id": "Xap7tezI57A5",
        "outputId": "627978fc-6398-477a-a316-03cf0573d523",
        "colab": {
          "base_uri": "https://localhost:8080/",
          "height": 663
        }
      },
      "source": [
        "fig = plt.figure(figsize=(10, 10))\n",
        "fig.suptitle('Algorithm Comparison')\n",
        "ax = fig.add_subplot(111)\n",
        "plt.boxplot(results)\n",
        "ax.set_xticklabels(names)\n",
        "plt.show()"
      ],
      "execution_count": null,
      "outputs": [
        {
          "output_type": "display_data",
          "data": {
            "image/png": "[encoded data removed]",
            "text/plain": [
              "<Figure size 720x720 with 1 Axes>"
            ]
          },
          "metadata": {
            "tags": [],
            "needs_background": "light"
          }
        }
      ]
    },
    {
      "cell_type": "code",
      "metadata": {
        "id": "m4cDAjyD7IPp",
        "outputId": "9877564a-4620-4b6b-8429-c1f16f832520",
        "colab": {
          "base_uri": "https://localhost:8080/"
        }
      },
      "source": [
        "scaler = StandardScaler().fit(X_train)\n",
        "rescaledX = scaler.transform(X_train)\n",
        "neighbors = [1,3,5,7,9,11,13,15,17,19,21]\n",
        "param_grid = dict(n_neighbors=neighbors)\n",
        "model = KNeighborsClassifier()\n",
        "kfold = KFold(n_splits=num_folds, random_state=seed)\n",
        "grid = GridSearchCV(estimator=model, param_grid=param_grid, scoring=scoring, cv=kfold)\n",
        "grid_result = grid.fit(rescaledX, y_train)\n",
        "print(\"Best: %f using %s\" % (grid_result.best_score_, grid_result.best_params_))\n",
        "means = grid_result.cv_results_['mean_test_score']\n",
        "stds = grid_result.cv_results_['std_test_score']\n",
        "params = grid_result.cv_results_['params']\n",
        "for mean, stdev, param in zip(means, stds, params):\n",
        "  print(\"%f (%f) with: %r\" % (mean, stdev, param))"
      ],
      "execution_count": null,
      "outputs": [
        {
          "output_type": "stream",
          "text": [
            "/usr/local/lib/python3.6/dist-packages/sklearn/model_selection/_split.py:296: FutureWarning: Setting a random_state has no effect since shuffle is False. This will raise an error in 0.24. You should leave random_state to its default (None), or set shuffle=True.\n",
            "  FutureWarning\n"
          ],
          "name": "stderr"
        },
        {
          "output_type": "stream",
          "text": [
            "Best: 0.978433 using {'n_neighbors': 3}\n",
            "0.978419 (0.010986) with: {'n_neighbors': 1}\n",
            "0.978433 (0.008474) with: {'n_neighbors': 3}\n",
            "0.972858 (0.008490) with: {'n_neighbors': 5}\n",
            "0.974951 (0.009427) with: {'n_neighbors': 7}\n",
            "0.970775 (0.008673) with: {'n_neighbors': 9}\n",
            "0.965895 (0.012649) with: {'n_neighbors': 11}\n",
            "0.964510 (0.007253) with: {'n_neighbors': 13}\n",
            "0.958940 (0.012235) with: {'n_neighbors': 15}\n",
            "0.956847 (0.010714) with: {'n_neighbors': 17}\n",
            "0.957551 (0.010978) with: {'n_neighbors': 19}\n",
            "0.955463 (0.011318) with: {'n_neighbors': 21}\n"
          ],
          "name": "stdout"
        }
      ]
    },
    {
      "cell_type": "code",
      "metadata": {
        "id": "9qQSseXGNch-",
        "outputId": "affe002a-2354-4199-f026-abad3cac60d0",
        "colab": {
          "base_uri": "https://localhost:8080/"
        }
      },
      "source": [
        "scaler = StandardScaler().fit(X_train)\n",
        "rescaledX = scaler.transform(X_train)\n",
        "c_values = [0.1, 0.3, 0.5, 0.7, 0.9, 1.0, 1.3, 1.5, 1.7, 2.0]\n",
        "kernel_values = ['linear', 'poly', 'rbf', 'sigmoid']\n",
        "gamma_values = [1, 0.1, 0.01, 0.001, 0.0001]\n",
        "param_grid = dict(C=c_values, kernel=kernel_values, gamma = gamma_values)\n",
        "\n",
        "\n",
        "\n",
        "model = SVC()\n",
        "kfold = KFold(n_splits=num_folds, random_state=seed)\n",
        "grid = GridSearchCV(estimator=model, param_grid=param_grid, scoring=scoring, cv=kfold)\n",
        "grid_result = grid.fit(rescaledX, y_train)\n",
        "print(\"Best: %f using %s\" % (grid_result.best_score_, grid_result.best_params_))\n",
        "means = grid_result.cv_results_['mean_test_score']\n",
        "stds = grid_result.cv_results_['std_test_score']\n",
        "params = grid_result.cv_results_['params']\n",
        "for mean, stdev, param in zip(means, stds, params):\n",
        "  print(\"%f (%f) with: %r\" % (mean, stdev, param))"
      ],
      "execution_count": null,
      "outputs": [
        {
          "output_type": "stream",
          "text": [
            "/usr/local/lib/python3.6/dist-packages/sklearn/model_selection/_split.py:296: FutureWarning: Setting a random_state has no effect since shuffle is False. This will raise an error in 0.24. You should leave random_state to its default (None), or set shuffle=True.\n",
            "  FutureWarning\n"
          ],
          "name": "stderr"
        },
        {
          "output_type": "stream",
          "text": [
            "Best: 0.988865 using {'C': 0.1, 'gamma': 1, 'kernel': 'poly'}\n",
            "0.982600 (0.008387) with: {'C': 0.1, 'gamma': 1, 'kernel': 'linear'}\n",
            "0.988865 (0.005574) with: {'C': 0.1, 'gamma': 1, 'kernel': 'poly'}\n",
            "0.085616 (0.019822) with: {'C': 0.1, 'gamma': 1, 'kernel': 'rbf'}\n",
            "0.429341 (0.038655) with: {'C': 0.1, 'gamma': 1, 'kernel': 'sigmoid'}\n",
            "0.982600 (0.008387) with: {'C': 0.1, 'gamma': 0.1, 'kernel': 'linear'}\n",
            "0.988865 (0.005574) with: {'C': 0.1, 'gamma': 0.1, 'kernel': 'poly'}\n",
            "0.254725 (0.049915) with: {'C': 0.1, 'gamma': 0.1, 'kernel': 'rbf'}\n",
            "0.740419 (0.038422) with: {'C': 0.1, 'gamma': 0.1, 'kernel': 'sigmoid'}\n",
            "0.982600 (0.008387) with: {'C': 0.1, 'gamma': 0.01, 'kernel': 'linear'}\n",
            "0.184494 (0.068775) with: {'C': 0.1, 'gamma': 0.01, 'kernel': 'poly'}\n",
            "0.935261 (0.016557) with: {'C': 0.1, 'gamma': 0.01, 'kernel': 'rbf'}\n",
            "0.915783 (0.018109) with: {'C': 0.1, 'gamma': 0.01, 'kernel': 'sigmoid'}\n",
            "0.982600 (0.008387) with: {'C': 0.1, 'gamma': 0.001, 'kernel': 'linear'}\n",
            "0.084217 (0.018090) with: {'C': 0.1, 'gamma': 0.001, 'kernel': 'poly'}\n",
            "0.500350 (0.034093) with: {'C': 0.1, 'gamma': 0.001, 'kernel': 'rbf'}\n",
            "0.123247 (0.048248) with: {'C': 0.1, 'gamma': 0.001, 'kernel': 'sigmoid'}\n",
            "0.982600 (0.008387) with: {'C': 0.1, 'gamma': 0.0001, 'kernel': 'linear'}\n",
            "0.084217 (0.018090) with: {'C': 0.1, 'gamma': 0.0001, 'kernel': 'poly'}\n",
            "0.103798 (0.052801) with: {'C': 0.1, 'gamma': 0.0001, 'kernel': 'rbf'}\n",
            "0.103798 (0.052801) with: {'C': 0.1, 'gamma': 0.0001, 'kernel': 'sigmoid'}\n",
            "0.977724 (0.009770) with: {'C': 0.3, 'gamma': 1, 'kernel': 'linear'}\n",
            "0.988865 (0.005574) with: {'C': 0.3, 'gamma': 1, 'kernel': 'poly'}\n",
            "0.085616 (0.019822) with: {'C': 0.3, 'gamma': 1, 'kernel': 'rbf'}\n",
            "0.398747 (0.047797) with: {'C': 0.3, 'gamma': 1, 'kernel': 'sigmoid'}\n",
            "0.977724 (0.009770) with: {'C': 0.3, 'gamma': 0.1, 'kernel': 'linear'}\n",
            "0.988865 (0.005574) with: {'C': 0.3, 'gamma': 0.1, 'kernel': 'poly'}\n",
            "0.748757 (0.031881) with: {'C': 0.3, 'gamma': 0.1, 'kernel': 'rbf'}\n",
            "0.672873 (0.042688) with: {'C': 0.3, 'gamma': 0.1, 'kernel': 'sigmoid'}\n",
            "0.977724 (0.009770) with: {'C': 0.3, 'gamma': 0.01, 'kernel': 'linear'}\n",
            "0.557493 (0.083654) with: {'C': 0.3, 'gamma': 0.01, 'kernel': 'poly'}\n",
            "0.963102 (0.010417) with: {'C': 0.3, 'gamma': 0.01, 'kernel': 'rbf'}\n",
            "0.956838 (0.016478) with: {'C': 0.3, 'gamma': 0.01, 'kernel': 'sigmoid'}\n",
            "0.977724 (0.009770) with: {'C': 0.3, 'gamma': 0.001, 'kernel': 'linear'}\n",
            "0.084217 (0.018090) with: {'C': 0.3, 'gamma': 0.001, 'kernel': 'poly'}\n",
            "0.892123 (0.020289) with: {'C': 0.3, 'gamma': 0.001, 'kernel': 'rbf'}\n",
            "0.749524 (0.031041) with: {'C': 0.3, 'gamma': 0.001, 'kernel': 'sigmoid'}\n",
            "0.977724 (0.009770) with: {'C': 0.3, 'gamma': 0.0001, 'kernel': 'linear'}\n",
            "0.084217 (0.018090) with: {'C': 0.3, 'gamma': 0.0001, 'kernel': 'poly'}\n",
            "0.103798 (0.052801) with: {'C': 0.3, 'gamma': 0.0001, 'kernel': 'rbf'}\n",
            "0.103798 (0.052801) with: {'C': 0.3, 'gamma': 0.0001, 'kernel': 'sigmoid'}\n",
            "0.977025 (0.009902) with: {'C': 0.5, 'gamma': 1, 'kernel': 'linear'}\n",
            "0.988865 (0.005574) with: {'C': 0.5, 'gamma': 1, 'kernel': 'poly'}\n",
            "0.085616 (0.019822) with: {'C': 0.5, 'gamma': 1, 'kernel': 'rbf'}\n",
            "0.407828 (0.041825) with: {'C': 0.5, 'gamma': 1, 'kernel': 'sigmoid'}\n",
            "0.977025 (0.009902) with: {'C': 0.5, 'gamma': 0.1, 'kernel': 'linear'}\n",
            "0.988865 (0.005574) with: {'C': 0.5, 'gamma': 0.1, 'kernel': 'poly'}\n",
            "0.872654 (0.031685) with: {'C': 0.5, 'gamma': 0.1, 'kernel': 'rbf'}\n",
            "0.643672 (0.039176) with: {'C': 0.5, 'gamma': 0.1, 'kernel': 'sigmoid'}\n",
            "0.977025 (0.009902) with: {'C': 0.5, 'gamma': 0.01, 'kernel': 'linear'}\n",
            "0.725918 (0.060539) with: {'C': 0.5, 'gamma': 0.01, 'kernel': 'poly'}\n",
            "0.970066 (0.012889) with: {'C': 0.5, 'gamma': 0.01, 'kernel': 'rbf'}\n",
            "0.963787 (0.015912) with: {'C': 0.5, 'gamma': 0.01, 'kernel': 'sigmoid'}\n",
            "0.977025 (0.009902) with: {'C': 0.5, 'gamma': 0.001, 'kernel': 'linear'}\n",
            "0.084217 (0.018090) with: {'C': 0.5, 'gamma': 0.001, 'kernel': 'poly'}\n",
            "0.926204 (0.021526) with: {'C': 0.5, 'gamma': 0.001, 'kernel': 'rbf'}\n",
            "0.878919 (0.014632) with: {'C': 0.5, 'gamma': 0.001, 'kernel': 'sigmoid'}\n",
            "0.977025 (0.009902) with: {'C': 0.5, 'gamma': 0.0001, 'kernel': 'linear'}\n",
            "0.084217 (0.018090) with: {'C': 0.5, 'gamma': 0.0001, 'kernel': 'poly'}\n",
            "0.118386 (0.049655) with: {'C': 0.5, 'gamma': 0.0001, 'kernel': 'rbf'}\n",
            "0.103798 (0.052801) with: {'C': 0.5, 'gamma': 0.0001, 'kernel': 'sigmoid'}\n",
            "0.977025 (0.009902) with: {'C': 0.7, 'gamma': 1, 'kernel': 'linear'}\n",
            "0.988865 (0.005574) with: {'C': 0.7, 'gamma': 1, 'kernel': 'poly'}\n",
            "0.085616 (0.019822) with: {'C': 0.7, 'gamma': 1, 'kernel': 'rbf'}\n",
            "0.408552 (0.040121) with: {'C': 0.7, 'gamma': 1, 'kernel': 'sigmoid'}\n",
            "0.977025 (0.009902) with: {'C': 0.7, 'gamma': 0.1, 'kernel': 'linear'}\n",
            "0.988865 (0.005574) with: {'C': 0.7, 'gamma': 0.1, 'kernel': 'poly'}\n",
            "0.910917 (0.021621) with: {'C': 0.7, 'gamma': 0.1, 'kernel': 'rbf'}\n",
            "0.638092 (0.044848) with: {'C': 0.7, 'gamma': 0.1, 'kernel': 'sigmoid'}\n",
            "0.977025 (0.009902) with: {'C': 0.7, 'gamma': 0.01, 'kernel': 'linear'}\n",
            "0.823281 (0.053428) with: {'C': 0.7, 'gamma': 0.01, 'kernel': 'poly'}\n",
            "0.974238 (0.012513) with: {'C': 0.7, 'gamma': 0.01, 'kernel': 'rbf'}\n",
            "0.965176 (0.016862) with: {'C': 0.7, 'gamma': 0.01, 'kernel': 'sigmoid'}\n",
            "0.977025 (0.009902) with: {'C': 0.7, 'gamma': 0.001, 'kernel': 'linear'}\n",
            "0.084217 (0.018090) with: {'C': 0.7, 'gamma': 0.001, 'kernel': 'poly'}\n",
            "0.938738 (0.019472) with: {'C': 0.7, 'gamma': 0.001, 'kernel': 'rbf'}\n",
            "0.909509 (0.026310) with: {'C': 0.7, 'gamma': 0.001, 'kernel': 'sigmoid'}\n",
            "0.977025 (0.009902) with: {'C': 0.7, 'gamma': 0.0001, 'kernel': 'linear'}\n",
            "0.084217 (0.018090) with: {'C': 0.7, 'gamma': 0.0001, 'kernel': 'poly'}\n",
            "0.232416 (0.032861) with: {'C': 0.7, 'gamma': 0.0001, 'kernel': 'rbf'}\n",
            "0.103798 (0.052801) with: {'C': 0.7, 'gamma': 0.0001, 'kernel': 'sigmoid'}\n",
            "0.977025 (0.009902) with: {'C': 0.9, 'gamma': 1, 'kernel': 'linear'}\n",
            "0.988865 (0.005574) with: {'C': 0.9, 'gamma': 1, 'kernel': 'poly'}\n",
            "0.086310 (0.019607) with: {'C': 0.9, 'gamma': 1, 'kernel': 'rbf'}\n",
            "0.414161 (0.056782) with: {'C': 0.9, 'gamma': 1, 'kernel': 'sigmoid'}\n",
            "0.977025 (0.009902) with: {'C': 0.9, 'gamma': 0.1, 'kernel': 'linear'}\n",
            "0.988865 (0.005574) with: {'C': 0.9, 'gamma': 0.1, 'kernel': 'poly'}\n",
            "0.933877 (0.020306) with: {'C': 0.9, 'gamma': 0.1, 'kernel': 'rbf'}\n",
            "0.634596 (0.047226) with: {'C': 0.9, 'gamma': 0.1, 'kernel': 'sigmoid'}\n",
            "0.977025 (0.009902) with: {'C': 0.9, 'gamma': 0.01, 'kernel': 'linear'}\n",
            "0.842011 (0.042479) with: {'C': 0.9, 'gamma': 0.01, 'kernel': 'poly'}\n",
            "0.977025 (0.010371) with: {'C': 0.9, 'gamma': 0.01, 'kernel': 'rbf'}\n",
            "0.967963 (0.016036) with: {'C': 0.9, 'gamma': 0.01, 'kernel': 'sigmoid'}\n",
            "0.977025 (0.009902) with: {'C': 0.9, 'gamma': 0.001, 'kernel': 'linear'}\n",
            "0.084217 (0.018090) with: {'C': 0.9, 'gamma': 0.001, 'kernel': 'poly'}\n",
            "0.947096 (0.015692) with: {'C': 0.9, 'gamma': 0.001, 'kernel': 'rbf'}\n",
            "0.922043 (0.020443) with: {'C': 0.9, 'gamma': 0.001, 'kernel': 'sigmoid'}\n",
            "0.977025 (0.009902) with: {'C': 0.9, 'gamma': 0.0001, 'kernel': 'linear'}\n",
            "0.084217 (0.018090) with: {'C': 0.9, 'gamma': 0.0001, 'kernel': 'poly'}\n",
            "0.486432 (0.035921) with: {'C': 0.9, 'gamma': 0.0001, 'kernel': 'rbf'}\n",
            "0.107270 (0.051648) with: {'C': 0.9, 'gamma': 0.0001, 'kernel': 'sigmoid'}\n",
            "0.977025 (0.009902) with: {'C': 1.0, 'gamma': 1, 'kernel': 'linear'}\n",
            "0.988865 (0.005574) with: {'C': 1.0, 'gamma': 1, 'kernel': 'poly'}\n",
            "0.096766 (0.025183) with: {'C': 1.0, 'gamma': 1, 'kernel': 'rbf'}\n",
            "0.414836 (0.053787) with: {'C': 1.0, 'gamma': 1, 'kernel': 'sigmoid'}\n",
            "0.977025 (0.009902) with: {'C': 1.0, 'gamma': 0.1, 'kernel': 'linear'}\n",
            "0.988865 (0.005574) with: {'C': 1.0, 'gamma': 0.1, 'kernel': 'poly'}\n",
            "0.935961 (0.019974) with: {'C': 1.0, 'gamma': 0.1, 'kernel': 'rbf'}\n",
            "0.630429 (0.043351) with: {'C': 1.0, 'gamma': 0.1, 'kernel': 'sigmoid'}\n",
            "0.977025 (0.009902) with: {'C': 1.0, 'gamma': 0.01, 'kernel': 'linear'}\n",
            "0.847577 (0.041389) with: {'C': 1.0, 'gamma': 0.01, 'kernel': 'poly'}\n",
            "0.979113 (0.009862) with: {'C': 1.0, 'gamma': 0.01, 'kernel': 'rbf'}\n",
            "0.967264 (0.015692) with: {'C': 1.0, 'gamma': 0.01, 'kernel': 'sigmoid'}\n",
            "0.977025 (0.009902) with: {'C': 1.0, 'gamma': 0.001, 'kernel': 'linear'}\n",
            "0.084217 (0.018090) with: {'C': 1.0, 'gamma': 0.001, 'kernel': 'poly'}\n",
            "0.948485 (0.015393) with: {'C': 1.0, 'gamma': 0.001, 'kernel': 'rbf'}\n",
            "0.926913 (0.018298) with: {'C': 1.0, 'gamma': 0.001, 'kernel': 'sigmoid'}\n",
            "0.977025 (0.009902) with: {'C': 1.0, 'gamma': 0.0001, 'kernel': 'linear'}\n",
            "0.084217 (0.018090) with: {'C': 1.0, 'gamma': 0.0001, 'kernel': 'poly'}\n",
            "0.580444 (0.052351) with: {'C': 1.0, 'gamma': 0.0001, 'kernel': 'rbf'}\n",
            "0.123941 (0.047816) with: {'C': 1.0, 'gamma': 0.0001, 'kernel': 'sigmoid'}\n",
            "0.977025 (0.009902) with: {'C': 1.3, 'gamma': 1, 'kernel': 'linear'}\n",
            "0.988865 (0.005574) with: {'C': 1.3, 'gamma': 1, 'kernel': 'poly'}\n",
            "0.102331 (0.029533) with: {'C': 1.3, 'gamma': 1, 'kernel': 'rbf'}\n",
            "0.416914 (0.053804) with: {'C': 1.3, 'gamma': 1, 'kernel': 'sigmoid'}\n",
            "0.977025 (0.009902) with: {'C': 1.3, 'gamma': 0.1, 'kernel': 'linear'}\n",
            "0.988865 (0.005574) with: {'C': 1.3, 'gamma': 0.1, 'kernel': 'poly'}\n",
            "0.937349 (0.020033) with: {'C': 1.3, 'gamma': 0.1, 'kernel': 'rbf'}\n",
            "0.619993 (0.037921) with: {'C': 1.3, 'gamma': 0.1, 'kernel': 'sigmoid'}\n",
            "0.977025 (0.009902) with: {'C': 1.3, 'gamma': 0.01, 'kernel': 'linear'}\n",
            "0.867740 (0.038748) with: {'C': 1.3, 'gamma': 0.01, 'kernel': 'poly'}\n",
            "0.981201 (0.008854) with: {'C': 1.3, 'gamma': 0.01, 'kernel': 'rbf'}\n",
            "0.969357 (0.013739) with: {'C': 1.3, 'gamma': 0.01, 'kernel': 'sigmoid'}\n",
            "0.977025 (0.009902) with: {'C': 1.3, 'gamma': 0.001, 'kernel': 'linear'}\n",
            "0.084217 (0.018090) with: {'C': 1.3, 'gamma': 0.001, 'kernel': 'poly'}\n",
            "0.956143 (0.013306) with: {'C': 1.3, 'gamma': 0.001, 'kernel': 'rbf'}\n",
            "0.935261 (0.020255) with: {'C': 1.3, 'gamma': 0.001, 'kernel': 'sigmoid'}\n",
            "0.977025 (0.009902) with: {'C': 1.3, 'gamma': 0.0001, 'kernel': 'linear'}\n",
            "0.084217 (0.018090) with: {'C': 1.3, 'gamma': 0.0001, 'kernel': 'poly'}\n",
            "0.698733 (0.047128) with: {'C': 1.3, 'gamma': 0.0001, 'kernel': 'rbf'}\n",
            "0.204604 (0.025042) with: {'C': 1.3, 'gamma': 0.0001, 'kernel': 'sigmoid'}\n",
            "0.977025 (0.009902) with: {'C': 1.5, 'gamma': 1, 'kernel': 'linear'}\n",
            "0.988865 (0.005574) with: {'C': 1.5, 'gamma': 1, 'kernel': 'poly'}\n",
            "0.102331 (0.029533) with: {'C': 1.5, 'gamma': 1, 'kernel': 'rbf'}\n",
            "0.411305 (0.055393) with: {'C': 1.5, 'gamma': 1, 'kernel': 'sigmoid'}\n",
            "0.977025 (0.009902) with: {'C': 1.5, 'gamma': 0.1, 'kernel': 'linear'}\n",
            "0.988865 (0.005574) with: {'C': 1.5, 'gamma': 0.1, 'kernel': 'poly'}\n",
            "0.937349 (0.020033) with: {'C': 1.5, 'gamma': 0.1, 'kernel': 'rbf'}\n",
            "0.624849 (0.041410) with: {'C': 1.5, 'gamma': 0.1, 'kernel': 'sigmoid'}\n",
            "0.977025 (0.009902) with: {'C': 1.5, 'gamma': 0.01, 'kernel': 'linear'}\n",
            "0.881672 (0.035125) with: {'C': 1.5, 'gamma': 0.01, 'kernel': 'poly'}\n",
            "0.981201 (0.008854) with: {'C': 1.5, 'gamma': 0.01, 'kernel': 'rbf'}\n",
            "0.969357 (0.012616) with: {'C': 1.5, 'gamma': 0.01, 'kernel': 'sigmoid'}\n",
            "0.977025 (0.009902) with: {'C': 1.5, 'gamma': 0.001, 'kernel': 'linear'}\n",
            "0.084217 (0.018090) with: {'C': 1.5, 'gamma': 0.001, 'kernel': 'poly'}\n",
            "0.956133 (0.015062) with: {'C': 1.5, 'gamma': 0.001, 'kernel': 'rbf'}\n",
            "0.939438 (0.020019) with: {'C': 1.5, 'gamma': 0.001, 'kernel': 'sigmoid'}\n",
            "0.977025 (0.009902) with: {'C': 1.5, 'gamma': 0.0001, 'kernel': 'linear'}\n",
            "0.084217 (0.018090) with: {'C': 1.5, 'gamma': 0.0001, 'kernel': 'poly'}\n",
            "0.746741 (0.033317) with: {'C': 1.5, 'gamma': 0.0001, 'kernel': 'rbf'}\n",
            "0.282503 (0.047137) with: {'C': 1.5, 'gamma': 0.0001, 'kernel': 'sigmoid'}\n",
            "0.977025 (0.009902) with: {'C': 1.7, 'gamma': 1, 'kernel': 'linear'}\n",
            "0.988865 (0.005574) with: {'C': 1.7, 'gamma': 1, 'kernel': 'poly'}\n",
            "0.102331 (0.029533) with: {'C': 1.7, 'gamma': 1, 'kernel': 'rbf'}\n",
            "0.419673 (0.058153) with: {'C': 1.7, 'gamma': 1, 'kernel': 'sigmoid'}\n",
            "0.977025 (0.009902) with: {'C': 1.7, 'gamma': 0.1, 'kernel': 'linear'}\n",
            "0.988865 (0.005574) with: {'C': 1.7, 'gamma': 0.1, 'kernel': 'poly'}\n",
            "0.937349 (0.020033) with: {'C': 1.7, 'gamma': 0.1, 'kernel': 'rbf'}\n",
            "0.628336 (0.042067) with: {'C': 1.7, 'gamma': 0.1, 'kernel': 'sigmoid'}\n",
            "0.977025 (0.009902) with: {'C': 1.7, 'gamma': 0.01, 'kernel': 'linear'}\n",
            "0.893502 (0.027393) with: {'C': 1.7, 'gamma': 0.01, 'kernel': 'poly'}\n",
            "0.981201 (0.008854) with: {'C': 1.7, 'gamma': 0.01, 'kernel': 'rbf'}\n",
            "0.967264 (0.014382) with: {'C': 1.7, 'gamma': 0.01, 'kernel': 'sigmoid'}\n",
            "0.977025 (0.009902) with: {'C': 1.7, 'gamma': 0.001, 'kernel': 'linear'}\n",
            "0.084217 (0.018090) with: {'C': 1.7, 'gamma': 0.001, 'kernel': 'poly'}\n",
            "0.958921 (0.014170) with: {'C': 1.7, 'gamma': 0.001, 'kernel': 'rbf'}\n",
            "0.945008 (0.018332) with: {'C': 1.7, 'gamma': 0.001, 'kernel': 'sigmoid'}\n",
            "0.977025 (0.009902) with: {'C': 1.7, 'gamma': 0.0001, 'kernel': 'linear'}\n",
            "0.084217 (0.018090) with: {'C': 1.7, 'gamma': 0.0001, 'kernel': 'poly'}\n",
            "0.789899 (0.034381) with: {'C': 1.7, 'gamma': 0.0001, 'kernel': 'rbf'}\n",
            "0.414763 (0.039658) with: {'C': 1.7, 'gamma': 0.0001, 'kernel': 'sigmoid'}\n",
            "0.977025 (0.009902) with: {'C': 2.0, 'gamma': 1, 'kernel': 'linear'}\n",
            "0.988865 (0.005574) with: {'C': 2.0, 'gamma': 1, 'kernel': 'poly'}\n",
            "0.102331 (0.029533) with: {'C': 2.0, 'gamma': 1, 'kernel': 'rbf'}\n",
            "0.418274 (0.057544) with: {'C': 2.0, 'gamma': 1, 'kernel': 'sigmoid'}\n",
            "0.977025 (0.009902) with: {'C': 2.0, 'gamma': 0.1, 'kernel': 'linear'}\n",
            "0.988865 (0.005574) with: {'C': 2.0, 'gamma': 0.1, 'kernel': 'poly'}\n",
            "0.937349 (0.020033) with: {'C': 2.0, 'gamma': 0.1, 'kernel': 'rbf'}\n",
            "0.627661 (0.043297) with: {'C': 2.0, 'gamma': 0.1, 'kernel': 'sigmoid'}\n",
            "0.977025 (0.009902) with: {'C': 2.0, 'gamma': 0.01, 'kernel': 'linear'}\n",
            "0.909533 (0.022406) with: {'C': 2.0, 'gamma': 0.01, 'kernel': 'poly'}\n",
            "0.983989 (0.007655) with: {'C': 2.0, 'gamma': 0.01, 'kernel': 'rbf'}\n",
            "0.969367 (0.013320) with: {'C': 2.0, 'gamma': 0.01, 'kernel': 'sigmoid'}\n",
            "0.977025 (0.009902) with: {'C': 2.0, 'gamma': 0.001, 'kernel': 'linear'}\n",
            "0.084217 (0.018090) with: {'C': 2.0, 'gamma': 0.001, 'kernel': 'poly'}\n",
            "0.961704 (0.013739) with: {'C': 2.0, 'gamma': 0.001, 'kernel': 'rbf'}\n",
            "0.949179 (0.017698) with: {'C': 2.0, 'gamma': 0.001, 'kernel': 'sigmoid'}\n",
            "0.977025 (0.009902) with: {'C': 2.0, 'gamma': 0.0001, 'kernel': 'linear'}\n",
            "0.084217 (0.018090) with: {'C': 2.0, 'gamma': 0.0001, 'kernel': 'poly'}\n",
            "0.835805 (0.027620) with: {'C': 2.0, 'gamma': 0.0001, 'kernel': 'rbf'}\n",
            "0.583911 (0.049479) with: {'C': 2.0, 'gamma': 0.0001, 'kernel': 'sigmoid'}\n"
          ],
          "name": "stdout"
        }
      ]
    },
    {
      "cell_type": "code",
      "metadata": {
        "id": "PZPApmgw70-6",
        "outputId": "12b2a6aa-b9a0-4eb7-d83d-db32201fc4ea",
        "colab": {
          "base_uri": "https://localhost:8080/"
        }
      },
      "source": [
        "ensembles = []\n",
        "ensembles.append(('AB', AdaBoostClassifier()))\n",
        "ensembles.append(('GBM', GradientBoostingClassifier()))\n",
        "ensembles.append(('RF', RandomForestClassifier()))\n",
        "\n",
        "results = []\n",
        "names = []\n",
        "for name, model in ensembles:\n",
        "  kfold = KFold(n_splits=num_folds, random_state=seed)\n",
        "  cv_results = cross_val_score(model, X_train, y_train, cv=kfold, scoring=scoring)\n",
        "  results.append(cv_results)\n",
        "  names.append(name)\n",
        "  msg = \"%s: %f (%f)\" % (name, cv_results.mean(), cv_results.std())\n",
        "  print(msg)"
      ],
      "execution_count": null,
      "outputs": [
        {
          "output_type": "stream",
          "text": [
            "/usr/local/lib/python3.6/dist-packages/sklearn/model_selection/_split.py:296: FutureWarning: Setting a random_state has no effect since shuffle is False. This will raise an error in 0.24. You should leave random_state to its default (None), or set shuffle=True.\n",
            "  FutureWarning\n"
          ],
          "name": "stderr"
        },
        {
          "output_type": "stream",
          "text": [
            "AB: 0.313865 (0.042008)\n"
          ],
          "name": "stdout"
        },
        {
          "output_type": "stream",
          "text": [
            "/usr/local/lib/python3.6/dist-packages/sklearn/model_selection/_split.py:296: FutureWarning: Setting a random_state has no effect since shuffle is False. This will raise an error in 0.24. You should leave random_state to its default (None), or set shuffle=True.\n",
            "  FutureWarning\n"
          ],
          "name": "stderr"
        },
        {
          "output_type": "stream",
          "text": [
            "GBM: 0.964486 (0.020342)\n"
          ],
          "name": "stdout"
        },
        {
          "output_type": "stream",
          "text": [
            "/usr/local/lib/python3.6/dist-packages/sklearn/model_selection/_split.py:296: FutureWarning: Setting a random_state has no effect since shuffle is False. This will raise an error in 0.24. You should leave random_state to its default (None), or set shuffle=True.\n",
            "  FutureWarning\n"
          ],
          "name": "stderr"
        },
        {
          "output_type": "stream",
          "text": [
            "RF: 0.977724 (0.007524)\n"
          ],
          "name": "stdout"
        }
      ]
    },
    {
      "cell_type": "code",
      "metadata": {
        "id": "UaqSxdIUBTjl"
      },
      "source": [
        "\n",
        "model = SVC(C= 0.1, kernel='poly', gamma= 1)\n",
        "model.fit(X_train, y_train)\n",
        "\n",
        "predictions = model.predict(X_test)"
      ],
      "execution_count": null,
      "outputs": []
    },
    {
      "cell_type": "code",
      "metadata": {
        "id": "OQK-sSfABXNW",
        "outputId": "5bd2ba06-11ca-400c-880d-93a6ab9b91c9",
        "colab": {
          "base_uri": "https://localhost:8080/"
        }
      },
      "source": [
        "print('Score = ',accuracy_score(y_test, predictions))\n",
        "print(classification_report(y_test, predictions))"
      ],
      "execution_count": null,
      "outputs": [
        {
          "output_type": "stream",
          "text": [
            "Score =  0.9722222222222222\n",
            "              precision    recall  f1-score   support\n",
            "\n",
            "           0       0.98      1.00      0.99        43\n",
            "           1       0.95      1.00      0.98        42\n",
            "           2       1.00      1.00      1.00        40\n",
            "           3       0.97      1.00      0.99        34\n",
            "           4       1.00      1.00      1.00        37\n",
            "           5       0.90      1.00      0.95        28\n",
            "           6       1.00      0.96      0.98        28\n",
            "           7       0.97      0.97      0.97        33\n",
            "           8       0.97      0.91      0.94        43\n",
            "           9       0.97      0.88      0.92        32\n",
            "\n",
            "    accuracy                           0.97       360\n",
            "   macro avg       0.97      0.97      0.97       360\n",
            "weighted avg       0.97      0.97      0.97       360\n",
            "\n"
          ],
          "name": "stdout"
        }
      ]
    },
    {
      "cell_type": "code",
      "metadata": {
        "id": "UbfuTC8lCLdQ",
        "outputId": "55709793-0f6a-4182-c305-b6f5ac163ef9",
        "colab": {
          "base_uri": "https://localhost:8080/",
          "height": 493
        }
      },
      "source": [
        "\n",
        "disp = metrics.plot_confusion_matrix(model, X_test, y_test)\n",
        "disp.figure_.suptitle(\"Confusion Matrix\")\n",
        "print(\"Confusion matrix:\\n%s\" % disp.confusion_matrix)\n",
        "\n",
        "plt.show()"
      ],
      "execution_count": null,
      "outputs": [
        {
          "output_type": "stream",
          "text": [
            "Confusion matrix:\n",
            "[[43  0  0  0  0  0  0  0  0  0]\n",
            " [ 0 42  0  0  0  0  0  0  0  0]\n",
            " [ 0  0 40  0  0  0  0  0  0  0]\n",
            " [ 0  0  0 34  0  0  0  0  0  0]\n",
            " [ 0  0  0  0 37  0  0  0  0  0]\n",
            " [ 0  0  0  0  0 28  0  0  0  0]\n",
            " [ 1  0  0  0  0  0 27  0  0  0]\n",
            " [ 0  0  0  0  0  0  0 32  0  1]\n",
            " [ 0  2  0  0  0  1  0  1 39  0]\n",
            " [ 0  0  0  1  0  2  0  0  1 28]]\n"
          ],
          "name": "stdout"
        },
        {
          "output_type": "display_data",
          "data": {
            "image/png": "[encoded data removed]",
            "text/plain": [
              "<Figure size 432x288 with 2 Axes>"
            ]
          },
          "metadata": {
            "tags": [],
            "needs_background": "light"
          }
        }
      ]
    }
  ]
}