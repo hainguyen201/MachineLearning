{
 "cells": [
  {
   "cell_type": "code",
   "execution_count": 5,
   "metadata": {},
   "outputs": [],
   "source": [
    "import numpy as np\n",
    "import matplotlib.pyplot as plt\n",
    "from scipy.spatial.distance import cdist\n",
    "np.random.seed(2)"
   ]
  },
  {
   "cell_type": "code",
   "execution_count": 6,
   "metadata": {},
   "outputs": [],
   "source": [
    "means=[[2,2], [4,2]]\n",
    "cov=[[.3,.2], [.2,.3]]\n",
    "N=10\n",
    "X0=np.random.multivariate_normal(means[0], cov, N).T\n",
    "X1=np.random.multivariate_normal(means[1], cov, N).T\n",
    "# plt.plot(X0[0], X0[1], \"b.\")\n",
    "# plt.plot(Y0[0], Y0[1], \"ro\")\n",
    "# plt.show()\n",
    "X=np.concatenate((X0, X1), axis=1)\n",
    "y=np.concatenate((np.ones((1,N)), -1*np.ones((1,N))), axis=1)\n",
    "X=np.concatenate((np.ones((1,2*N)), X), axis=0)"
   ]
  },
  {
   "cell_type": "code",
   "execution_count": 13,
   "metadata": {},
   "outputs": [
    {
     "name": "stdout",
     "output_type": "stream",
     "text": [
      "14\n",
      "[[ 3.62346659]\n",
      " [-4.77657992]\n",
      " [ 5.03502113]]\n"
     ]
    }
   ],
   "source": [
    "def h(w, x):\n",
    "    return np.sign(np.dot(w.T,x))\n",
    "def has_converged(X, y, w):\n",
    "    return np.array_equal(h(w, X), y)\n",
    "def perceptron(X, y, w_init):\n",
    "    # tạo mảng các w sau mỗi lần lặp\n",
    "    w=[w_init]\n",
    "    N=X.shape[1] # N=20\n",
    "    d=X.shape[0] # d=3\n",
    "    mis_points=[]\n",
    "    while True:\n",
    "        # mix data\n",
    "        # tạo một mảng hoán vị từ 0 đến N\n",
    "        mix_id=np.random.permutation(N)\n",
    "        # duyệt tất cả các điểm\n",
    "        for i in range(N):\n",
    "            # lấy một điểm xi và yi\n",
    "            xi=X[:, mix_id[i]].reshape(d, 1)\n",
    "            yi=y[0, mix_id[i]]\n",
    "            \n",
    "            # nếu điểm đó là misclassified\n",
    "            # thì cập nhật w\n",
    "            if h(w[-1], xi)[0]!=yi: #misclassified point\n",
    "                mis_points.append(mix_id[i])\n",
    "                w_new=w[-1]+yi*xi\n",
    "                w.append(w_new)\n",
    "        if has_converged(X, y, w[-1]):\n",
    "            break\n",
    "    return (w, mis_points)\n",
    "d=X.shape[0]\n",
    "w_init=np.random.randn(d, 1)\n",
    "(w, m)=perceptron(X, y, w_init)\n",
    "print(len(w))\n",
    "print(w[-1])"
   ]
  },
  {
   "cell_type": "code",
   "execution_count": null,
   "metadata": {},
   "outputs": [],
   "source": []
  }
 ],
 "metadata": {
  "kernelspec": {
   "display_name": "Python 3",
   "language": "python",
   "name": "python3"
  },
  "language_info": {
   "codemirror_mode": {
    "name": "ipython",
    "version": 3
   },
   "file_extension": ".py",
   "mimetype": "text/x-python",
   "name": "python",
   "nbconvert_exporter": "python",
   "pygments_lexer": "ipython3",
   "version": "3.8.3"
  }
 },
 "nbformat": 4,
 "nbformat_minor": 4
}
