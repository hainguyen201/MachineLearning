{
 "cells": [
  {
   "cell_type": "code",
   "execution_count": 2,
   "metadata": {},
   "outputs": [],
   "source": [
    "import numpy as np\n",
    "import matplotlib.pyplot as plt\n",
    "from scipy.spatial.distance import cdist\n",
    "np.random.seed(2)"
   ]
  },
  {
   "cell_type": "code",
   "execution_count": 5,
   "metadata": {},
   "outputs": [
    {
     "name": "stdout",
     "output_type": "stream",
     "text": [
      "[[2.11200125 1.3085396  2.51153392 1.04405478 2.15254162 1.68244384\n",
      "  1.58334917 2.63624444 1.85831694 1.93727986 3.33290958 4.4697242\n",
      "  3.57395371 2.98379239 4.49008239 4.28779706 4.58326845 4.2536685\n",
      "  4.55700152 3.05419243]\n",
      " [2.07746801 1.86675739 1.89235835 1.58870979 2.30946373 1.93568992\n",
      "  2.21244285 3.10171506 1.76121109 0.88918865 1.50556893 2.66340908\n",
      "  2.73013273 1.18087489 2.22917145 2.03725257 2.31897762 2.02251099\n",
      "  2.14158843 0.39536933]]\n",
      "[[ 1.  1.  1.  1.  1.  1.  1.  1.  1.  1. -1. -1. -1. -1. -1. -1. -1. -1.\n",
      "  -1. -1.]]\n",
      "[[1.         1.         1.         1.         1.         1.\n",
      "  1.         1.         1.         1.         1.         1.\n",
      "  1.         1.         1.         1.         1.         1.\n",
      "  1.         1.        ]\n",
      " [2.11200125 1.3085396  2.51153392 1.04405478 2.15254162 1.68244384\n",
      "  1.58334917 2.63624444 1.85831694 1.93727986 3.33290958 4.4697242\n",
      "  3.57395371 2.98379239 4.49008239 4.28779706 4.58326845 4.2536685\n",
      "  4.55700152 3.05419243]\n",
      " [2.07746801 1.86675739 1.89235835 1.58870979 2.30946373 1.93568992\n",
      "  2.21244285 3.10171506 1.76121109 0.88918865 1.50556893 2.66340908\n",
      "  2.73013273 1.18087489 2.22917145 2.03725257 2.31897762 2.02251099\n",
      "  2.14158843 0.39536933]]\n"
     ]
    }
   ],
   "source": [
    "means=[[2,2], [4,2]]\n",
    "cov=[[.3,.2], [.2,.3]]\n",
    "N=10\n",
    "X0=np.random.multivariate_normal(means[0], cov, N).T\n",
    "X1=np.random.multivariate_normal(means[1], cov, N).T\n",
    "# plt.plot(X0[0], X0[1], \"b.\")\n",
    "# plt.plot(Y0[0], Y0[1], \"ro\")\n",
    "# plt.show()\n",
    "X=np.concatenate((X0, X1), axis=1)\n",
    "y=np.concatenate((np.ones((1,N)), -1*np.ones((1,N))), axis=1)\n",
    "print(X)\n",
    "print(y)\n",
    "X=np.concatenate((np.ones((1,2*N)), X), axis=0)\n",
    "\n",
    "print(X)"
   ]
  },
  {
   "cell_type": "code",
   "execution_count": null,
   "metadata": {},
   "outputs": [],
   "source": [
    "def h(w, x):\n",
    "    return np.sign(np.dot(w.T,x))\n",
    "def has_converged(X, y, w):\n",
    "    return np.array_equal(h(w, X), y)\n",
    "def perceptron(X, y, w_init):\n",
    "    w=[w_init]\n",
    "    N=X.shape[1]\n",
    "    d=X.shape[0]\n",
    "    mis_points=[]\n",
    "    while True:\n",
    "        # mix data\n",
    "        mix_id=np.pe\n"
   ]
  }
 ],
 "metadata": {
  "kernelspec": {
   "display_name": "Python 3",
   "language": "python",
   "name": "python3"
  },
  "language_info": {
   "codemirror_mode": {
    "name": "ipython",
    "version": 3
   },
   "file_extension": ".py",
   "mimetype": "text/x-python",
   "name": "python",
   "nbconvert_exporter": "python",
   "pygments_lexer": "ipython3",
   "version": "3.8.3"
  }
 },
 "nbformat": 4,
 "nbformat_minor": 4
}
