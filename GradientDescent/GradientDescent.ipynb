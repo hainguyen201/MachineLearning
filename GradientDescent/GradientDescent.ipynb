{
 "cells": [
  {
   "cell_type": "code",
   "execution_count": 3,
   "metadata": {},
   "outputs": [],
   "source": [
    "from __future__ import division, print_function, unicode_literals\n",
    "import math\n",
    "import numpy as np\n",
    "import matplotlib.pyplot as plt\n",
    "# f(x)=x^2 +5sin(x)"
   ]
  },
  {
   "cell_type": "code",
   "execution_count": 4,
   "metadata": {},
   "outputs": [
    {
     "name": "stdout",
     "output_type": "stream",
     "text": [
      "-1.1106667365268623 11\n",
      "-1.1103410483948122 29\n"
     ]
    }
   ],
   "source": [
    "def grad(x):\n",
    "    return 2*x+5*np.cos(x)\n",
    "def cost(x):\n",
    "    return x**2 + 5*np.sin(x)\n",
    "def myGD1(eta, x0):\n",
    "    x=[x0]\n",
    "    for it in range(100):\n",
    "        x_new =x[-1]-eta*grad(x[-1])\n",
    "        if abs(grad(x_new))<1e-3:\n",
    "            break;\n",
    "        x.append(x_new)\n",
    "    return (x, it)\n",
    "(x1, it1)=myGD1(.1, -5)\n",
    "(x2, it2)=myGD1(.1, 5)\n",
    "print(x1[-1], it1)\n",
    "print(x2[-1], it2)"
   ]
  },
  {
   "cell_type": "code",
   "execution_count": null,
   "metadata": {},
   "outputs": [],
   "source": []
  }
 ],
 "metadata": {
  "kernelspec": {
   "display_name": "Python 3",
   "language": "python",
   "name": "python3"
  },
  "language_info": {
   "codemirror_mode": {
    "name": "ipython",
    "version": 3
   },
   "file_extension": ".py",
   "mimetype": "text/x-python",
   "name": "python",
   "nbconvert_exporter": "python",
   "pygments_lexer": "ipython3",
   "version": "3.8.3"
  }
 },
 "nbformat": 4,
 "nbformat_minor": 4
}
