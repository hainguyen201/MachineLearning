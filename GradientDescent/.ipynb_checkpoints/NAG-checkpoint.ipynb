{
 "cells": [
  {
   "cell_type": "code",
   "execution_count": 10,
   "metadata": {},
   "outputs": [],
   "source": [
    "import numpy as np\n",
    "import matplotlib.pyplot as plt\n",
    "np.random.seed(2)"
   ]
  },
  {
   "cell_type": "code",
   "execution_count": 12,
   "metadata": {},
   "outputs": [
    {
     "name": "stdout",
     "output_type": "stream",
     "text": [
      "[[1.         0.68835318]\n",
      " [1.         0.2664969 ]\n",
      " [1.         0.86073305]\n",
      " ...\n",
      " [1.         0.68773884]\n",
      " [1.         0.79638825]\n",
      " [1.         0.58194254]]\n"
     ]
    },
    {
     "data": {
      "image/png": "[encoded data removed]",
      "text/plain": [
       "<Figure size 432x288 with 1 Axes>"
      ]
     },
     "metadata": {
      "needs_background": "light"
     },
     "output_type": "display_data"
    }
   ],
   "source": [
    "#y=4+3x\n",
    "x=np.random.rand(1000,1)\n",
    "y=4+3*x+.2*np.random.rand(1000,1)\n",
    "one=np.ones((x.shape[0],1))\n",
    "xbar=np.concatenate((one, x), axis=1)\n",
    "plt.plot(x, y, 'b.')\n",
    "def cost(w):\n",
    "    N=xbar.shape[0]\n",
    "    return .5/N*np.linalg.norm(y-xbar.dot(w))**2\n",
    "def grad(w):\n",
    "    N=xbar.shape[0]\n",
    "    return 1./N*xbar.T.dot(xbar.dot(w)-y)\n",
    "plt.show()\n"
   ]
  },
  {
   "cell_type": "code",
   "execution_count": null,
   "metadata": {},
   "outputs": [],
   "source": []
  }
 ],
 "metadata": {
  "kernelspec": {
   "display_name": "Python 3",
   "language": "python",
   "name": "python3"
  },
  "language_info": {
   "codemirror_mode": {
    "name": "ipython",
    "version": 3
   },
   "file_extension": ".py",
   "mimetype": "text/x-python",
   "name": "python",
   "nbconvert_exporter": "python",
   "pygments_lexer": "ipython3",
   "version": "3.8.3"
  }
 },
 "nbformat": 4,
 "nbformat_minor": 4
}
