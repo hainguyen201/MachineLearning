{
 "cells": [
  {
   "cell_type": "code",
   "execution_count": 14,
   "metadata": {},
   "outputs": [],
   "source": [
    "import numpy as np\n",
    "import matplotlib.pyplot as plt\n",
    "np.random.seed(2)"
   ]
  },
  {
   "cell_type": "code",
   "execution_count": 20,
   "metadata": {},
   "outputs": [
    {
     "data": {
      "image/png": "[encoded data removed]",
      "text/plain": [
       "<Figure size 432x288 with 1 Axes>"
      ]
     },
     "metadata": {
      "needs_background": "light"
     },
     "output_type": "display_data"
    }
   ],
   "source": [
    "X=np.random.rand(1000,1)\n",
    "# print(np.max(X))\n",
    "# print(\"x\",X)\n",
    "y=4+3*X+.2*np.random.rand(1000,1)\n",
    "one=np.ones((X.shape[0], 1))\n",
    "Xbar=np.concatenate((one, X), axis=1)\n",
    "# print(\"Xbar\", Xbar)\n",
    "A=np.dot(Xbar.T, Xbar)\n",
    "B=np.dot(Xbar.T, y)\n",
    "w=np.dot(np.linalg.pinv(A), B)\n",
    "x0=np.array([0.,1.])\n",
    "# print(w.T)\n",
    "y0=w[1][0]*x0+w[0][0]\n",
    "# print(w)\n",
    "plt.plot(X.T, y.T, \"b.\")\n",
    "plt.plot(x0.T, y0.T,'y', linewidth=3)\n",
    "plt.axis([0.,1.,4.,8.])\n",
    "plt.show()"
   ]
  },
  {
   "cell_type": "code",
   "execution_count": 16,
   "metadata": {},
   "outputs": [],
   "source": [
    "# tính đạo hàm\n",
    "def grad(w):\n",
    "    N=Xbar.shape[0]\n",
    "    return 1/N*Xbar.T.dot(Xbar.dot(w)-y)\n",
    "# tính hàm mất mát\n",
    "def cost(w):\n",
    "    N=Xbar.shape[0]\n",
    "    return .5/N*np.linalg.norm(y-Xbar.dot(w), 2)**2"
   ]
  },
  {
   "cell_type": "code",
   "execution_count": 21,
   "metadata": {},
   "outputs": [
    {
     "name": "stdout",
     "output_type": "stream",
     "text": [
      "True\n",
      "46\n",
      "[[4.11099444 2.97418503]]\n",
      "47\n"
     ]
    }
   ],
   "source": [
    "# tương đối đạo hàm\n",
    "def numerical_grad(w, cost):\n",
    "    eps=1e-4\n",
    "    g=np.zeros_like(w)\n",
    "    for i in range(len(w)):\n",
    "        #  tạo bản sao của w\n",
    "        wp=w.copy()\n",
    "        wn=w.copy()\n",
    "        wp[i]+=eps;\n",
    "        wn[i]-=eps\n",
    "        g[i]=(cost(wp)-cost(wn))/(2*eps)\n",
    "    return g\n",
    "# kiểm tra sai số giữa kết quả tính đạo hàm tương đối và đạo hàm\n",
    "def check_grad(w, cost, grad):\n",
    "    #tạo mảng random các giá trị nhỏ hơn 1 có chiểu giống vói w\n",
    "    w=np.random.rand(w.shape[0], w.shape[1])\n",
    "    # kết quả tính đạo hàm\n",
    "    grad1=grad(w);\n",
    "    # kết quả tính tương đối đạo hàm\n",
    "    grad2=numerical_grad(w, cost)\n",
    "    # tính toán khoảng cách giữa 2 vector đạo hàm theo chuẩn 2\n",
    "    return True if np.linalg.norm(grad1-grad2)<1e-6 else False\n",
    "print(check_grad(np.random.rand(2,1), cost, grad))\n",
    "# tính toán gradient descent\n",
    "def myGD(w_init, grad, eta):\n",
    "    # chuyển ma trận thành mảng để lưu các giá trị w sau mỗi lần lặp\n",
    "    w=[w_init]\n",
    "    for it in range(100):\n",
    "        # tính toán giá trị x(t+1) theo learning rate và đạo hàm\n",
    "        w_new=w[-1]-eta*grad(w[-1])\n",
    "        # tính chuẩn của đạo hàm với giá trị mới\n",
    "        if np.linalg.norm(grad(w_new))/len(w_new)< 1e-3:\n",
    "            break\n",
    "        w.append(w_new)\n",
    "    print(it)\n",
    "    return (w, it)\n",
    "w_init=np.array([[2],\n",
    "                [1]])\n",
    "(w1, it1)=myGD(w_init, grad, 1)\n",
    "print(w1[-1].T)\n",
    "print(it1+1)"
   ]
  },
  {
   "cell_type": "code",
   "execution_count": null,
   "metadata": {},
   "outputs": [],
   "source": [
    "# kiểm tra giá trị thỏa mãn globalmin\n",
    "def has_converged(theta_new, grad):\n",
    "        return np.linalg.norm(grad(theta_new))/len(theta_new)< 1e-3\n",
    "def GD_momentum(theta_init, grad, eta, gamma):\n",
    "    # chuyền về mảng để lưu các vị trí mới\n",
    "    theta=[theta_init]\n",
    "    v_old=np.zeros_like(theta_init)\n",
    "    \n",
    "    for it in range(100):\n",
    "        v_new = gamma*v_old + eta*grad(theta[-1])\n",
    "        theta_new= theta[-1]-v_new\n",
    "        if(has_converged(theta_new, grad)):\n",
    "            break\n",
    "        theta_append(theta_new)\n",
    "        v_old=v_new\n",
    "    return theta\n",
    "x=np.random()\n",
    "print(GD_momentum)        "
   ]
  }
 ],
 "metadata": {
  "kernelspec": {
   "display_name": "Python 3",
   "language": "python",
   "name": "python3"
  },
  "language_info": {
   "codemirror_mode": {
    "name": "ipython",
    "version": 3
   },
   "file_extension": ".py",
   "mimetype": "text/x-python",
   "name": "python",
   "nbconvert_exporter": "python",
   "pygments_lexer": "ipython3",
   "version": "3.8.3"
  }
 },
 "nbformat": 4,
 "nbformat_minor": 4
}
