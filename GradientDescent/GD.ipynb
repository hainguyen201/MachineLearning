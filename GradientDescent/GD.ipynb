{
 "cells": [
  {
   "cell_type": "code",
   "execution_count": 1,
   "metadata": {},
   "outputs": [],
   "source": [
    "import numpy as np\n",
    "import matplotlib.pyplot as plt\n",
    "np.random.seed(2)"
   ]
  },
  {
   "cell_type": "code",
   "execution_count": 2,
   "metadata": {},
   "outputs": [
    {
     "data": {
      "image/png": "[encoded data removed]",
      "text/plain": [
       "<Figure size 432x288 with 1 Axes>"
      ]
     },
     "metadata": {
      "needs_background": "light"
     },
     "output_type": "display_data"
    }
   ],
   "source": [
    "X=np.random.rand(1000,1)\n",
    "# print(np.max(X))\n",
    "# print(\"x\",X)\n",
    "y=4+3*X+.2*np.random.rand(1000,1)\n",
    "one=np.ones((X.shape[0], 1))\n",
    "Xbar=np.concatenate((one, X), axis=1)\n",
    "# print(\"Xbar\", Xbar)\n",
    "A=np.dot(Xbar.T, Xbar)\n",
    "B=np.dot(Xbar.T, y)\n",
    "w=np.dot(np.linalg.pinv(A), B)\n",
    "x0=np.array([0.,1.])\n",
    "# print(w.T)\n",
    "y0=w[1][0]*x0+w[0][0]\n",
    "# print(w)\n",
    "plt.plot(X.T, y.T, \"b.\")\n",
    "plt.plot(x0.T, y0.T,'y', linewidth=3)\n",
    "plt.axis([0.,1.,4.,8.])\n",
    "plt.show()"
   ]
  },
  {
   "cell_type": "code",
   "execution_count": 3,
   "metadata": {},
   "outputs": [],
   "source": [
    "# tính đạo hàm\n",
    "def grad(w):\n",
    "    N=Xbar.shape[0]\n",
    "    return 1/N*Xbar.T.dot(Xbar.dot(w)-y)\n",
    "\n",
    "# tính hàm mất mát\n",
    "def cost(w):\n",
    "    N=Xbar.shape[0]\n",
    "    return .5/N*np.linalg.norm(y-Xbar.dot(w), 2)**2"
   ]
  },
  {
   "cell_type": "code",
   "execution_count": 4,
   "metadata": {},
   "outputs": [
    {
     "name": "stdout",
     "output_type": "stream",
     "text": [
      "True\n",
      "48\n",
      "[[4.11407996 2.96775119]]\n",
      "49\n"
     ]
    }
   ],
   "source": [
    "# tương đối đạo hàm\n",
    "def numerical_grad(w, cost):\n",
    "    eps=1e-4\n",
    "    g=np.zeros_like(w)\n",
    "    for i in range(len(w)):\n",
    "        #  tạo bản sao của w\n",
    "        wp=w.copy()\n",
    "        wn=w.copy()\n",
    "        wp[i]+=eps;\n",
    "        wn[i]-=eps\n",
    "        g[i]=(cost(wp)-cost(wn))/(2*eps)\n",
    "    return g\n",
    "# kiểm tra sai số giữa kết quả tính đạo hàm tương đối và đạo hàm\n",
    "def check_grad(w, cost, grad):\n",
    "    #tạo mảng random các giá trị nhỏ hơn 1 có chiểu giống vói w\n",
    "    w=np.random.rand(w.shape[0], w.shape[1])\n",
    "    # kết quả tính đạo hàm\n",
    "    grad1=grad(w);\n",
    "    # kết quả tính tương đối đạo hàm\n",
    "    grad2=numerical_grad(w, cost)\n",
    "    # tính toán khoảng cách giữa 2 vector đạo hàm theo chuẩn 2\n",
    "    return True if np.linalg.norm(grad1-grad2)<1e-6 else False\n",
    "print(check_grad(np.random.rand(2,1), cost, grad))\n",
    "# tính toán gradient descent\n",
    "def myGD(w_init, grad, eta):\n",
    "    # chuyển ma trận thành mảng để lưu các giá trị w sau mỗi lần lặp\n",
    "    w=[w_init]\n",
    "    for it in range(100):\n",
    "        # tính toán giá trị x(t+1) theo learning rate và đạo hàm\n",
    "        w_new=w[-1]-eta*grad(w[-1])\n",
    "        # tính chuẩn của đạo hàm với giá trị mới\n",
    "        if np.linalg.norm(grad(w_new))/len(w_new)< 1e-3:\n",
    "            break\n",
    "        w.append(w_new)\n",
    "    print(it)\n",
    "    return (w, it)\n",
    "w_init=np.array([[2],\n",
    "                [1]])\n",
    "(w1, it1)=myGD(w_init, grad, 1)\n",
    "print(w1[-1].T)\n",
    "print(it1+1)"
   ]
  },
  {
   "cell_type": "code",
   "execution_count": 81,
   "metadata": {},
   "outputs": [
    {
     "name": "stdout",
     "output_type": "stream",
     "text": [
      "[[5.]]\n",
      "[[ 5.        ]\n",
      " [ 3.71633781]\n",
      " [ 2.65710515]\n",
      " [ 2.05728849]\n",
      " [ 1.57352371]\n",
      " [ 0.82615804]\n",
      " [-0.68940855]\n",
      " [-2.68715913]\n",
      " [-3.04919299]\n",
      " [-1.76945069]\n",
      " [-0.06644214]\n",
      " [ 0.48176045]\n",
      " [-0.00738992]\n",
      " [-1.44611996]\n",
      " [-2.57610663]\n",
      " [-2.23354502]\n",
      " [-0.86324459]\n",
      " [-0.10730044]\n",
      " [-0.39973944]\n",
      " [-1.50414908]\n",
      " [-2.26388586]\n",
      " [-1.85595486]\n",
      " [-0.8363164 ]\n",
      " [-0.42157977]\n",
      " [-0.87644447]\n",
      " [-1.75042131]\n",
      " [-2.0082556 ]\n",
      " [-1.41501597]\n",
      " [-0.75324817]\n",
      " [-0.73647844]\n",
      " [-1.31492852]\n",
      " [-1.82563294]\n",
      " [-1.66805303]\n",
      " [-1.09551705]\n",
      " [-0.81871805]\n",
      " [-1.08901328]\n",
      " [-1.57783633]\n",
      " [-1.69516986]\n",
      " [-1.33768294]\n",
      " [-0.97941593]\n",
      " [-1.01859996]\n",
      " [-1.37470401]\n",
      " [-1.61509489]\n",
      " [-1.46414363]\n",
      " [-1.14190939]\n",
      " [-1.0393755 ]\n",
      " [-1.24597864]\n",
      " [-1.50186174]\n",
      " [-1.50066419]\n",
      " [-1.26952822]\n",
      " [-1.10433164]\n",
      " [-1.18451988]\n",
      " [-1.39652716]\n",
      " [-1.4814167 ]\n",
      " [-1.35079461]\n",
      " [-1.18130711]\n",
      " [-1.17222287]\n",
      " [-1.3177065 ]\n",
      " [-1.43549701]\n",
      " [-1.38929597]\n",
      " [-1.25036133]\n",
      " [-1.19022733]\n",
      " [-1.26951008]\n",
      " [-1.3837113 ]\n",
      " [-1.39574572]\n",
      " [-1.30158552]\n",
      " [-1.22249499]\n",
      " [-1.24811615]\n",
      " [-1.33866151]\n",
      " [-1.38247563]\n",
      " [-1.33262276]\n",
      " [-1.25715877]\n",
      " [-1.2463302 ]\n",
      " [-1.30612126]\n",
      " [-1.36030463]\n",
      " [-1.3459495 ]\n",
      " [-1.28679703]\n",
      " [-1.25639738]\n",
      " [-1.28700315]\n",
      " [-1.33714682]\n",
      " [-1.34637616]\n",
      " [-1.30794844]\n",
      " [-1.27160548]\n",
      " [-1.27932282]\n",
      " [-1.31776775]\n",
      " [-1.33915189]\n",
      " [-1.32014558]\n",
      " [-1.28704521]\n",
      " [-1.27980456]\n",
      " [-1.3042295 ]\n",
      " [-1.32878712]\n",
      " [-1.32478532]\n",
      " [-1.29976365]\n",
      " [-1.28501797]\n",
      " [-1.29664759]\n",
      " [-1.31851229]\n",
      " [-1.3241044 ]\n",
      " [-1.3085138 ]\n",
      " [-1.29206519]\n",
      " [-1.29398438]\n",
      " [-1.31020513]]\n"
     ]
    },
    {
     "data": {
      "image/png": "[encoded data removed]",
      "text/plain": [
       "<Figure size 432x288 with 1 Axes>"
      ]
     },
     "metadata": {
      "needs_background": "light"
     },
     "output_type": "display_data"
    }
   ],
   "source": [
    "theta_init=5* np.ones((1,1))\n",
    "print(theta_init)\n",
    "eta=.1\n",
    "gamma=.9\n",
    "x=10*np.random.rand(200)-4\n",
    "x=np.sort(x)\n",
    "y=x**2+10*np.sin(x)\n",
    "plt.plot(x, y, \"y\")\n",
    "plt.axis([-4, 6, -10, 25])\n",
    "\n",
    "# tính đạo hàm của f(x)=x^2+10sin(x)\n",
    "def fx(x):\n",
    "    return x**2+10*np.sin(x)\n",
    "def gradsin(w):\n",
    "    \n",
    "# kiểm tra giá trị thỏa mãn globalmin\n",
    "def has_converged(theta_new, gradsin):\n",
    "        return np.linalg.norm(gradsin(theta_new))< 1e-3\n",
    "def GD_momentum(theta_init, gradsin, eta, gamma):\n",
    "    # chuyền về mảng để lưu các vị trí mới\n",
    "    theta=[theta_init]\n",
    "    v_old=np.zeros_like(theta_init)\n",
    "    for it in range(100):\n",
    "        v_new = gamma*v_old + eta*gradsin(theta[-1])\n",
    "       \n",
    "        theta_new= theta[-1]-v_new\n",
    "   \n",
    "        if(has_converged(theta_new, gradsin)):\n",
    "            break\n",
    "        theta.append(theta_new)\n",
    "        v_old=v_new\n",
    "    return theta\n",
    "# print(np.linalg.norm(gradsin(theta_init)))\n",
    "x0=GD_momentum(theta_init, gradsin, eta, gamma)\n",
    "x0=np.asarray(x0)\n",
    "x0=np.reshape(x0, (x0.shape[0],1))\n",
    "print(x0)\n",
    "\n",
    "y0=x0**2+10*np.sin(x0)\n",
    "plt.plot(x0, y0, 'b.')\n",
    "plt.show()"
   ]
  },
  {
   "cell_type": "code",
   "execution_count": null,
   "metadata": {},
   "outputs": [],
   "source": []
  }
 ],
 "metadata": {
  "kernelspec": {
   "display_name": "Python 3",
   "language": "python",
   "name": "python3"
  },
  "language_info": {
   "codemirror_mode": {
    "name": "ipython",
    "version": 3
   },
   "file_extension": ".py",
   "mimetype": "text/x-python",
   "name": "python",
   "nbconvert_exporter": "python",
   "pygments_lexer": "ipython3",
   "version": "3.8.3"
  }
 },
 "nbformat": 4,
 "nbformat_minor": 4
}
