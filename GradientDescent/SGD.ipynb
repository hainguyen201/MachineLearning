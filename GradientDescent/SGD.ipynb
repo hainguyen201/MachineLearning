{
 "cells": [
  {
   "cell_type": "code",
   "execution_count": 2,
   "metadata": {},
   "outputs": [],
   "source": [
    "import numpy as np\n",
    "import matplotlib.pyplot as plt\n",
    "np.random.seed(2)"
   ]
  },
  {
   "cell_type": "code",
   "execution_count": 5,
   "metadata": {},
   "outputs": [
    {
     "data": {
      "image/png": "[encoded data removed]",
      "text/plain": [
       "<Figure size 432x288 with 1 Axes>"
      ]
     },
     "metadata": {
      "needs_background": "light"
     },
     "output_type": "display_data"
    },
    {
     "name": "stdout",
     "output_type": "stream",
     "text": [
      "[[0.]\n",
      " [1.]]\n"
     ]
    }
   ],
   "source": [
    "#y=4+3x\n",
    "x=np.random.rand(1000,1)\n",
    "y=4+3*x+.2*np.random.rand(1000,1)\n",
    "one=np.ones((x.shape[0],1))\n",
    "xbar=np.concatenate((one, x), axis=1)\n",
    "plt.plot(x, y, 'b.')\n",
    "def cost(w):\n",
    "    N=xbar.shape[0]\n",
    "    return .5/N*np.linalg.norm(y-xbar.dot(w))**2\n",
    "def grad(w):\n",
    "    N=xbar.shape[0]\n",
    "    return 1./N*xbar.T.dot(xbar.dot(w)-y)\n",
    "plt.show()"
   ]
  },
  {
   "cell_type": "code",
   "execution_count": 53,
   "metadata": {},
   "outputs": [
    {
     "name": "stdout",
     "output_type": "stream",
     "text": [
      "[[3.]\n",
      " [3.]]\n",
      "[[4.03794974]\n",
      " [3.12310735]]\n",
      "2071\n"
     ]
    }
   ],
   "source": [
    "# đạo hàm tại một điểm\n",
    "def sgrad(w, i, rd_id):\n",
    "    true_i=rd_id[i]\n",
    "    xi=xbar[true_i, :]\n",
    "    yi=y[true_i]\n",
    "    a=np.dot(xi, w)-yi\n",
    "    return (xi*a).reshape(2,1)\n",
    "# thuật toán sử dụng để tính đạo hàm tại một điểm làm giảm việc tính toán\n",
    "# trên toàn bộ dữ liệu\n",
    "\n",
    "def SGD(w_init, sgrad, eta):\n",
    "    w=[w_init]\n",
    "    w_last_check=w_init\n",
    "    iter_check_w=10\n",
    "    N=x.shape[0]\n",
    "    count=0\n",
    "    for it in range(10):\n",
    "        # shuffle data\n",
    "        # tạo một hoán vị ngẫu nhiên\n",
    "        rd_id=np.random.permutation(N)\n",
    "        for i in range(N):\n",
    "            # đếm số lần lặp\n",
    "            count+=1\n",
    "            # liên tục tính đạo hàm 10 điểm\n",
    "            g=sgrad(w[-1], i, rd_id)\n",
    "            w_new=w[-1]-eta*g\n",
    "            w.append(w_new)\n",
    "            # đến điểm thứ 10 thì kiểm tra\n",
    "            if count%iter_check_w==0:\n",
    "                w_this_check=w_new\n",
    "                if np.linalg.norm(w_this_check-w_last_check)/len(w_init)< 1e-4:\n",
    "                    return w\n",
    "                w_last_check=w_this_check\n",
    "    return w\n",
    "w_init=3*np.ones((2,1))\n",
    "print(w_init)\n",
    "w=SGD(w_init, sgrad, 0.01)\n",
    "print(w[-1])\n",
    "print(len(w))"
   ]
  },
  {
   "cell_type": "code",
   "execution_count": null,
   "metadata": {},
   "outputs": [],
   "source": []
  }
 ],
 "metadata": {
  "kernelspec": {
   "display_name": "Python 3",
   "language": "python",
   "name": "python3"
  },
  "language_info": {
   "codemirror_mode": {
    "name": "ipython",
    "version": 3
   },
   "file_extension": ".py",
   "mimetype": "text/x-python",
   "name": "python",
   "nbconvert_exporter": "python",
   "pygments_lexer": "ipython3",
   "version": "3.8.3"
  }
 },
 "nbformat": 4,
 "nbformat_minor": 4
}
